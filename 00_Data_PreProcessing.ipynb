{
 "cells": [
  {
   "cell_type": "code",
   "execution_count": 1,
   "metadata": {
    "_cell_guid": "b1076dfc-b9ad-4769-8c92-a6c4dae69d19",
    "_uuid": "8f2839f25d086af736a60e9eeb907d3b93b6e0e5"
   },
   "outputs": [],
   "source": [
    "import pandas as pd\n",
    "import numpy as np\n",
    "\n",
    "import seaborn as sns\n",
    "import matplotlib.pyplot as plt\n",
    "\n",
    "sns.set(font_scale=2.2)\n",
    "plt.style.use('seaborn')\n",
    "\n",
    "from sklearn.preprocessing import LabelEncoder, MinMaxScaler, StandardScaler, OneHotEncoder\n",
    "from sklearn.model_selection import StratifiedKFold, train_test_split, ShuffleSplit\n",
    "from sklearn.metrics import f1_score\n",
    "import itertools\n",
    "import lightgbm as lgb\n",
    "import xgboost as xgb\n",
    "from xgboost import XGBClassifier\n",
    "import shap\n",
    "from tqdm import tqdm\n",
    "import warnings \n",
    "warnings.filterwarnings('ignore')\n",
    "import time"
   ]
  },
  {
   "cell_type": "markdown",
   "metadata": {
    "_uuid": "da0c2dd917069d712ebf552c0a636d3085a8a93e"
   },
   "source": [
    "# 1. Check datasets"
   ]
  },
  {
   "cell_type": "markdown",
   "metadata": {
    "_uuid": "d62fec9476338b5bd9238d0ef0b1eede68d64172"
   },
   "source": [
    "## 1.1 Read dataset"
   ]
  },
  {
   "cell_type": "code",
   "execution_count": 2,
   "metadata": {
    "_uuid": "f7c77f102b5e10e76e3e49a6027271cb3e776b2a"
   },
   "outputs": [],
   "source": [
    "df_train = pd.read_csv('train.csv')\n",
    "df_test = pd.read_csv('test.csv')"
   ]
  },
  {
   "cell_type": "code",
   "execution_count": 3,
   "metadata": {
    "_uuid": "51c5dd9205fee608be90dc89faa6a9d7efc84a07"
   },
   "outputs": [
    {
     "name": "stdout",
     "output_type": "stream",
     "text": [
      "df_train shape: (9557, 143)    df_test shape:  (23856, 142)\n"
     ]
    }
   ],
   "source": [
    "print('df_train shape:', df_train.shape, '  ', 'df_test shape: ', df_test.shape)"
   ]
  },
  {
   "cell_type": "code",
   "execution_count": 4,
   "metadata": {
    "_uuid": "959cb5a1e6fb528e4260e9514b6c017203f5077a"
   },
   "outputs": [
    {
     "data": {
      "text/html": [
       "<div>\n",
       "<style scoped>\n",
       "    .dataframe tbody tr th:only-of-type {\n",
       "        vertical-align: middle;\n",
       "    }\n",
       "\n",
       "    .dataframe tbody tr th {\n",
       "        vertical-align: top;\n",
       "    }\n",
       "\n",
       "    .dataframe thead th {\n",
       "        text-align: right;\n",
       "    }\n",
       "</style>\n",
       "<table border=\"1\" class=\"dataframe\">\n",
       "  <thead>\n",
       "    <tr style=\"text-align: right;\">\n",
       "      <th></th>\n",
       "      <th>Id</th>\n",
       "      <th>v2a1</th>\n",
       "      <th>hacdor</th>\n",
       "      <th>rooms</th>\n",
       "      <th>hacapo</th>\n",
       "      <th>v14a</th>\n",
       "      <th>refrig</th>\n",
       "      <th>v18q</th>\n",
       "      <th>v18q1</th>\n",
       "      <th>r4h1</th>\n",
       "      <th>...</th>\n",
       "      <th>SQBescolari</th>\n",
       "      <th>SQBage</th>\n",
       "      <th>SQBhogar_total</th>\n",
       "      <th>SQBedjefe</th>\n",
       "      <th>SQBhogar_nin</th>\n",
       "      <th>SQBovercrowding</th>\n",
       "      <th>SQBdependency</th>\n",
       "      <th>SQBmeaned</th>\n",
       "      <th>agesq</th>\n",
       "      <th>Target</th>\n",
       "    </tr>\n",
       "  </thead>\n",
       "  <tbody>\n",
       "    <tr>\n",
       "      <th>0</th>\n",
       "      <td>ID_279628684</td>\n",
       "      <td>190000.0</td>\n",
       "      <td>0</td>\n",
       "      <td>3</td>\n",
       "      <td>0</td>\n",
       "      <td>1</td>\n",
       "      <td>1</td>\n",
       "      <td>0</td>\n",
       "      <td>NaN</td>\n",
       "      <td>0</td>\n",
       "      <td>...</td>\n",
       "      <td>100</td>\n",
       "      <td>1849</td>\n",
       "      <td>1</td>\n",
       "      <td>100</td>\n",
       "      <td>0</td>\n",
       "      <td>1.000000</td>\n",
       "      <td>0.0</td>\n",
       "      <td>100.0</td>\n",
       "      <td>1849</td>\n",
       "      <td>4</td>\n",
       "    </tr>\n",
       "    <tr>\n",
       "      <th>1</th>\n",
       "      <td>ID_f29eb3ddd</td>\n",
       "      <td>135000.0</td>\n",
       "      <td>0</td>\n",
       "      <td>4</td>\n",
       "      <td>0</td>\n",
       "      <td>1</td>\n",
       "      <td>1</td>\n",
       "      <td>1</td>\n",
       "      <td>1.0</td>\n",
       "      <td>0</td>\n",
       "      <td>...</td>\n",
       "      <td>144</td>\n",
       "      <td>4489</td>\n",
       "      <td>1</td>\n",
       "      <td>144</td>\n",
       "      <td>0</td>\n",
       "      <td>1.000000</td>\n",
       "      <td>64.0</td>\n",
       "      <td>144.0</td>\n",
       "      <td>4489</td>\n",
       "      <td>4</td>\n",
       "    </tr>\n",
       "    <tr>\n",
       "      <th>2</th>\n",
       "      <td>ID_68de51c94</td>\n",
       "      <td>NaN</td>\n",
       "      <td>0</td>\n",
       "      <td>8</td>\n",
       "      <td>0</td>\n",
       "      <td>1</td>\n",
       "      <td>1</td>\n",
       "      <td>0</td>\n",
       "      <td>NaN</td>\n",
       "      <td>0</td>\n",
       "      <td>...</td>\n",
       "      <td>121</td>\n",
       "      <td>8464</td>\n",
       "      <td>1</td>\n",
       "      <td>0</td>\n",
       "      <td>0</td>\n",
       "      <td>0.250000</td>\n",
       "      <td>64.0</td>\n",
       "      <td>121.0</td>\n",
       "      <td>8464</td>\n",
       "      <td>4</td>\n",
       "    </tr>\n",
       "    <tr>\n",
       "      <th>3</th>\n",
       "      <td>ID_d671db89c</td>\n",
       "      <td>180000.0</td>\n",
       "      <td>0</td>\n",
       "      <td>5</td>\n",
       "      <td>0</td>\n",
       "      <td>1</td>\n",
       "      <td>1</td>\n",
       "      <td>1</td>\n",
       "      <td>1.0</td>\n",
       "      <td>0</td>\n",
       "      <td>...</td>\n",
       "      <td>81</td>\n",
       "      <td>289</td>\n",
       "      <td>16</td>\n",
       "      <td>121</td>\n",
       "      <td>4</td>\n",
       "      <td>1.777778</td>\n",
       "      <td>1.0</td>\n",
       "      <td>121.0</td>\n",
       "      <td>289</td>\n",
       "      <td>4</td>\n",
       "    </tr>\n",
       "    <tr>\n",
       "      <th>4</th>\n",
       "      <td>ID_d56d6f5f5</td>\n",
       "      <td>180000.0</td>\n",
       "      <td>0</td>\n",
       "      <td>5</td>\n",
       "      <td>0</td>\n",
       "      <td>1</td>\n",
       "      <td>1</td>\n",
       "      <td>1</td>\n",
       "      <td>1.0</td>\n",
       "      <td>0</td>\n",
       "      <td>...</td>\n",
       "      <td>121</td>\n",
       "      <td>1369</td>\n",
       "      <td>16</td>\n",
       "      <td>121</td>\n",
       "      <td>4</td>\n",
       "      <td>1.777778</td>\n",
       "      <td>1.0</td>\n",
       "      <td>121.0</td>\n",
       "      <td>1369</td>\n",
       "      <td>4</td>\n",
       "    </tr>\n",
       "  </tbody>\n",
       "</table>\n",
       "<p>5 rows × 143 columns</p>\n",
       "</div>"
      ],
      "text/plain": [
       "             Id      v2a1  hacdor  rooms  hacapo  v14a  refrig  v18q  v18q1  \\\n",
       "0  ID_279628684  190000.0       0      3       0     1       1     0    NaN   \n",
       "1  ID_f29eb3ddd  135000.0       0      4       0     1       1     1    1.0   \n",
       "2  ID_68de51c94       NaN       0      8       0     1       1     0    NaN   \n",
       "3  ID_d671db89c  180000.0       0      5       0     1       1     1    1.0   \n",
       "4  ID_d56d6f5f5  180000.0       0      5       0     1       1     1    1.0   \n",
       "\n",
       "   r4h1  ...  SQBescolari  SQBage  SQBhogar_total  SQBedjefe  SQBhogar_nin  \\\n",
       "0     0  ...          100    1849               1        100             0   \n",
       "1     0  ...          144    4489               1        144             0   \n",
       "2     0  ...          121    8464               1          0             0   \n",
       "3     0  ...           81     289              16        121             4   \n",
       "4     0  ...          121    1369              16        121             4   \n",
       "\n",
       "   SQBovercrowding  SQBdependency  SQBmeaned  agesq  Target  \n",
       "0         1.000000            0.0      100.0   1849       4  \n",
       "1         1.000000           64.0      144.0   4489       4  \n",
       "2         0.250000           64.0      121.0   8464       4  \n",
       "3         1.777778            1.0      121.0    289       4  \n",
       "4         1.777778            1.0      121.0   1369       4  \n",
       "\n",
       "[5 rows x 143 columns]"
      ]
     },
     "execution_count": 4,
     "metadata": {},
     "output_type": "execute_result"
    }
   ],
   "source": [
    "df_train.head()"
   ]
  },
  {
   "cell_type": "code",
   "execution_count": 5,
   "metadata": {
    "_uuid": "14d4a2ed4c13b02a7be164a61443232cdfff3fb4"
   },
   "outputs": [
    {
     "data": {
      "text/html": [
       "<div>\n",
       "<style scoped>\n",
       "    .dataframe tbody tr th:only-of-type {\n",
       "        vertical-align: middle;\n",
       "    }\n",
       "\n",
       "    .dataframe tbody tr th {\n",
       "        vertical-align: top;\n",
       "    }\n",
       "\n",
       "    .dataframe thead th {\n",
       "        text-align: right;\n",
       "    }\n",
       "</style>\n",
       "<table border=\"1\" class=\"dataframe\">\n",
       "  <thead>\n",
       "    <tr style=\"text-align: right;\">\n",
       "      <th></th>\n",
       "      <th>Id</th>\n",
       "      <th>v2a1</th>\n",
       "      <th>hacdor</th>\n",
       "      <th>rooms</th>\n",
       "      <th>hacapo</th>\n",
       "      <th>v14a</th>\n",
       "      <th>refrig</th>\n",
       "      <th>v18q</th>\n",
       "      <th>v18q1</th>\n",
       "      <th>r4h1</th>\n",
       "      <th>...</th>\n",
       "      <th>age</th>\n",
       "      <th>SQBescolari</th>\n",
       "      <th>SQBage</th>\n",
       "      <th>SQBhogar_total</th>\n",
       "      <th>SQBedjefe</th>\n",
       "      <th>SQBhogar_nin</th>\n",
       "      <th>SQBovercrowding</th>\n",
       "      <th>SQBdependency</th>\n",
       "      <th>SQBmeaned</th>\n",
       "      <th>agesq</th>\n",
       "    </tr>\n",
       "  </thead>\n",
       "  <tbody>\n",
       "    <tr>\n",
       "      <th>0</th>\n",
       "      <td>ID_2f6873615</td>\n",
       "      <td>NaN</td>\n",
       "      <td>0</td>\n",
       "      <td>5</td>\n",
       "      <td>0</td>\n",
       "      <td>1</td>\n",
       "      <td>1</td>\n",
       "      <td>0</td>\n",
       "      <td>NaN</td>\n",
       "      <td>1</td>\n",
       "      <td>...</td>\n",
       "      <td>4</td>\n",
       "      <td>0</td>\n",
       "      <td>16</td>\n",
       "      <td>9</td>\n",
       "      <td>0</td>\n",
       "      <td>1</td>\n",
       "      <td>2.25</td>\n",
       "      <td>0.25</td>\n",
       "      <td>272.25</td>\n",
       "      <td>16</td>\n",
       "    </tr>\n",
       "    <tr>\n",
       "      <th>1</th>\n",
       "      <td>ID_1c78846d2</td>\n",
       "      <td>NaN</td>\n",
       "      <td>0</td>\n",
       "      <td>5</td>\n",
       "      <td>0</td>\n",
       "      <td>1</td>\n",
       "      <td>1</td>\n",
       "      <td>0</td>\n",
       "      <td>NaN</td>\n",
       "      <td>1</td>\n",
       "      <td>...</td>\n",
       "      <td>41</td>\n",
       "      <td>256</td>\n",
       "      <td>1681</td>\n",
       "      <td>9</td>\n",
       "      <td>0</td>\n",
       "      <td>1</td>\n",
       "      <td>2.25</td>\n",
       "      <td>0.25</td>\n",
       "      <td>272.25</td>\n",
       "      <td>1681</td>\n",
       "    </tr>\n",
       "    <tr>\n",
       "      <th>2</th>\n",
       "      <td>ID_e5442cf6a</td>\n",
       "      <td>NaN</td>\n",
       "      <td>0</td>\n",
       "      <td>5</td>\n",
       "      <td>0</td>\n",
       "      <td>1</td>\n",
       "      <td>1</td>\n",
       "      <td>0</td>\n",
       "      <td>NaN</td>\n",
       "      <td>1</td>\n",
       "      <td>...</td>\n",
       "      <td>41</td>\n",
       "      <td>289</td>\n",
       "      <td>1681</td>\n",
       "      <td>9</td>\n",
       "      <td>0</td>\n",
       "      <td>1</td>\n",
       "      <td>2.25</td>\n",
       "      <td>0.25</td>\n",
       "      <td>272.25</td>\n",
       "      <td>1681</td>\n",
       "    </tr>\n",
       "    <tr>\n",
       "      <th>3</th>\n",
       "      <td>ID_a8db26a79</td>\n",
       "      <td>NaN</td>\n",
       "      <td>0</td>\n",
       "      <td>14</td>\n",
       "      <td>0</td>\n",
       "      <td>1</td>\n",
       "      <td>1</td>\n",
       "      <td>1</td>\n",
       "      <td>1.0</td>\n",
       "      <td>0</td>\n",
       "      <td>...</td>\n",
       "      <td>59</td>\n",
       "      <td>256</td>\n",
       "      <td>3481</td>\n",
       "      <td>1</td>\n",
       "      <td>256</td>\n",
       "      <td>0</td>\n",
       "      <td>1.00</td>\n",
       "      <td>0.00</td>\n",
       "      <td>256.00</td>\n",
       "      <td>3481</td>\n",
       "    </tr>\n",
       "    <tr>\n",
       "      <th>4</th>\n",
       "      <td>ID_a62966799</td>\n",
       "      <td>175000.0</td>\n",
       "      <td>0</td>\n",
       "      <td>4</td>\n",
       "      <td>0</td>\n",
       "      <td>1</td>\n",
       "      <td>1</td>\n",
       "      <td>1</td>\n",
       "      <td>1.0</td>\n",
       "      <td>0</td>\n",
       "      <td>...</td>\n",
       "      <td>18</td>\n",
       "      <td>121</td>\n",
       "      <td>324</td>\n",
       "      <td>1</td>\n",
       "      <td>0</td>\n",
       "      <td>1</td>\n",
       "      <td>0.25</td>\n",
       "      <td>64.00</td>\n",
       "      <td>NaN</td>\n",
       "      <td>324</td>\n",
       "    </tr>\n",
       "  </tbody>\n",
       "</table>\n",
       "<p>5 rows × 142 columns</p>\n",
       "</div>"
      ],
      "text/plain": [
       "             Id      v2a1  hacdor  rooms  hacapo  v14a  refrig  v18q  v18q1  \\\n",
       "0  ID_2f6873615       NaN       0      5       0     1       1     0    NaN   \n",
       "1  ID_1c78846d2       NaN       0      5       0     1       1     0    NaN   \n",
       "2  ID_e5442cf6a       NaN       0      5       0     1       1     0    NaN   \n",
       "3  ID_a8db26a79       NaN       0     14       0     1       1     1    1.0   \n",
       "4  ID_a62966799  175000.0       0      4       0     1       1     1    1.0   \n",
       "\n",
       "   r4h1  ...  age  SQBescolari  SQBage  SQBhogar_total  SQBedjefe  \\\n",
       "0     1  ...    4            0      16               9          0   \n",
       "1     1  ...   41          256    1681               9          0   \n",
       "2     1  ...   41          289    1681               9          0   \n",
       "3     0  ...   59          256    3481               1        256   \n",
       "4     0  ...   18          121     324               1          0   \n",
       "\n",
       "   SQBhogar_nin  SQBovercrowding  SQBdependency  SQBmeaned  agesq  \n",
       "0             1             2.25           0.25     272.25     16  \n",
       "1             1             2.25           0.25     272.25   1681  \n",
       "2             1             2.25           0.25     272.25   1681  \n",
       "3             0             1.00           0.00     256.00   3481  \n",
       "4             1             0.25          64.00        NaN    324  \n",
       "\n",
       "[5 rows x 142 columns]"
      ]
     },
     "execution_count": 5,
     "metadata": {},
     "output_type": "execute_result"
    }
   ],
   "source": [
    "df_test.head()"
   ]
  },
  {
   "cell_type": "markdown",
   "metadata": {
    "_uuid": "e7068c40ca5ab2493cdc7379f6f7da1856a8d7d1"
   },
   "source": [
    "## 1.2 Make description df"
   ]
  },
  {
   "cell_type": "code",
   "execution_count": 6,
   "metadata": {
    "_kg_hide-input": true,
    "_uuid": "ed6d0f1837d5d8077db467067525f93c560db587"
   },
   "outputs": [],
   "source": [
    "description = [\n",
    "(\"v2a1\",\" Monthly rent payment\"),\n",
    "(\"hacdor\",\" =1 Overcrowding by bedrooms\"),\n",
    "(\"rooms\",\"  number of all rooms in the house\"),\n",
    "(\"hacapo\",\" =1 Overcrowding by rooms\"),\n",
    "(\"v14a\",\" =1 has toilet in the household\"),\n",
    "(\"refrig\",\" =1 if the household has refrigerator\"),\n",
    "(\"v18q\",\" owns a tablet\"),\n",
    "(\"v18q1\",\" number of tablets household owns\"),\n",
    "(\"r4h1\",\" Males younger than 12 years of age\"),\n",
    "(\"r4h2\",\" Males 12 years of age and older\"),\n",
    "(\"r4h3\",\" Total males in the household\"),\n",
    "(\"r4m1\",\" Females younger than 12 years of age\"),\n",
    "(\"r4m2\",\" Females 12 years of age and older\"),\n",
    "(\"r4m3\",\" Total females in the household\"),\n",
    "(\"r4t1\",\" persons younger than 12 years of age\"),\n",
    "(\"r4t2\",\" persons 12 years of age and older\"),\n",
    "(\"r4t3\",\" Total persons in the household\"),\n",
    "(\"tamhog\",\" size of the household\"),\n",
    "(\"tamviv\",\" number of persons living in the household\"),\n",
    "(\"escolari\",\" years of schooling\"),\n",
    "(\"rez_esc\",\" Years behind in school\"),\n",
    "(\"hhsize\",\" household size\"),\n",
    "(\"paredblolad\",\" =1 if predominant material on the outside wall is block or brick\"),\n",
    "(\"paredzocalo\",\" =1 if predominant material on the outside wall is socket (wood, zinc or absbesto\"),\n",
    "(\"paredpreb\",\" =1 if predominant material on the outside wall is prefabricated or cement\"),\n",
    "(\"pareddes\",\" =1 if predominant material on the outside wall is waste material\"),\n",
    "(\"paredmad\",\" =1 if predominant material on the outside wall is wood\"),\n",
    "(\"paredzinc\",\" =1 if predominant material on the outside wall is zink\"),\n",
    "(\"paredfibras\",\" =1 if predominant material on the outside wall is natural fibers\"),\n",
    "(\"paredother\",\" =1 if predominant material on the outside wall is other\"),\n",
    "(\"pisomoscer\",\" =1 if predominant material on the floor is mosaic ceramic   terrazo\"),\n",
    "(\"pisocemento\",\" =1 if predominant material on the floor is cement\"),\n",
    "(\"pisoother\",\" =1 if predominant material on the floor is other\"),\n",
    "(\"pisonatur\",\" =1 if predominant material on the floor is  natural material\"),\n",
    "(\"pisonotiene\",\" =1 if no floor at the household\"),\n",
    "(\"pisomadera\",\" =1 if predominant material on the floor is wood\"),\n",
    "(\"techozinc\",\" =1 if predominant material on the roof is metal foil or zink\"),\n",
    "(\"techoentrepiso\",\" =1 if predominant material on the roof is fiber cement,   mezzanine \"),\n",
    "(\"techocane\",\" =1 if predominant material on the roof is natural fibers\"),\n",
    "(\"techootro\",\" =1 if predominant material on the roof is other\"),\n",
    "(\"cielorazo\",\" =1 if the house has ceiling\"),\n",
    "(\"abastaguadentro\",\" =1 if water provision inside the dwelling\"),\n",
    "(\"abastaguafuera\",\" =1 if water provision outside the dwelling\"),\n",
    "(\"abastaguano\",\" =1 if no water provision\"),\n",
    "(\"public\",\" =1 electricity from CNFL,  ICE, ESPH/JASEC\"),\n",
    "(\"planpri\",\" =1 electricity from private plant\"),\n",
    "(\"noelec\",\" =1 no electricity in the dwelling\"),\n",
    "(\"coopele\",\" =1 electricity from cooperative\"),\n",
    "(\"sanitario1\",\" =1 no toilet in the dwelling\"),\n",
    "(\"sanitario2\",\" =1 toilet connected to sewer or cesspool\"),\n",
    "(\"sanitario3\",\" =1 toilet connected to  septic tank\"),\n",
    "(\"sanitario5\",\" =1 toilet connected to black hole or letrine\"),\n",
    "(\"sanitario6\",\" =1 toilet connected to other system\"),\n",
    "(\"energcocinar1\",\" =1 no main source of energy used for cooking (no kitchen)\"),\n",
    "(\"energcocinar2\",\" =1 main source of energy used for cooking electricity\"),\n",
    "(\"energcocinar3\",\" =1 main source of energy used for cooking gas\"),\n",
    "(\"energcocinar4\",\" =1 main source of energy used for cooking wood charcoal\"),\n",
    "(\"elimbasu1\",\" =1 if rubbish disposal mainly by tanker truck\"),\n",
    "(\"elimbasu2\",\" =1 if rubbish disposal mainly by botan hollow or buried\"),\n",
    "(\"elimbasu3\",\" =1 if rubbish disposal mainly by burning\"),\n",
    "(\"elimbasu4\",\" =1 if rubbish disposal mainly by throwing in an unoccupied space\"),\n",
    "(\"elimbasu5\",\" =1 if rubbish disposal mainly by throwing in river,   creek or sea\"),\n",
    "(\"elimbasu6\",\" =1 if rubbish disposal mainly other\"),\n",
    "(\"epared1\",\" =1 if walls are bad\"),\n",
    "(\"epared2\",\" =1 if walls are regular\"),\n",
    "(\"epared3\",\" =1 if walls are good\"),\n",
    "(\"etecho1\",\" =1 if roof are bad\"),\n",
    "(\"etecho2\",\" =1 if roof are regular\"),\n",
    "(\"etecho3\",\" =1 if roof are good\"),\n",
    "(\"eviv1\",\" =1 if floor are bad\"),\n",
    "(\"eviv2\",\" =1 if floor are regular\"),\n",
    "(\"eviv3\",\" =1 if floor are good\"),\n",
    "(\"dis\",\" =1 if disable person\"),\n",
    "(\"male\",\" =1 if male\"),\n",
    "(\"female\",\" =1 if female\"),\n",
    "(\"estadocivil1\",\" =1 if less than 10 years old\"),\n",
    "(\"estadocivil2\",\" =1 if free or coupled uunion\"),\n",
    "(\"estadocivil3\",\" =1 if married\"),\n",
    "(\"estadocivil4\",\" =1 if divorced\"),\n",
    "(\"estadocivil5\",\" =1 if separated\"),\n",
    "(\"estadocivil6\",\" =1 if widow/er\"),\n",
    "(\"estadocivil7\",\" =1 if single\"),\n",
    "(\"parentesco1\",\" =1 if household head\"),\n",
    "(\"parentesco2\",\" =1 if spouse/partner\"),\n",
    "(\"parentesco3\",\" =1 if son/doughter\"),\n",
    "(\"parentesco4\",\" =1 if stepson/doughter\"),\n",
    "(\"parentesco5\",\" =1 if son/doughter in law\"),\n",
    "(\"parentesco6\",\" =1 if grandson/doughter\"),\n",
    "(\"parentesco7\",\" =1 if mother/father\"),\n",
    "(\"parentesco8\",\" =1 if father/mother in law\"),\n",
    "(\"parentesco9\",\" =1 if brother/sister\"),\n",
    "(\"parentesco10\",\" =1 if brother/sister in law\"),\n",
    "(\"parentesco11\",\" =1 if other family member\"),\n",
    "(\"parentesco12\",\" =1 if other non family member\"),\n",
    "(\"idhogar\",\" Household level identifier\"),\n",
    "(\"hogar_nin\",\" Number of children 0 to 19 in household\"),\n",
    "(\"hogar_adul\",\" Number of adults in household\"),\n",
    "(\"hogar_mayor\",\" # of individuals 65+ in the household\"),\n",
    "(\"hogar_total\",\" # of total individuals in the household\"),\n",
    "(\"dependency\",\" Dependency rate\"),\n",
    "(\"edjefe\",\" years of education of male head of household\"),\n",
    "(\"edjefa\",\" years of education of female head of household\"),\n",
    "(\"meaneduc\",\"average years of education for adults (18+)\"),\n",
    "(\"instlevel1\",\" =1 no level of education\"),\n",
    "(\"instlevel2\",\" =1 incomplete primary\"),\n",
    "(\"instlevel3\",\" =1 complete primary\"),\n",
    "(\"instlevel4\",\" =1 incomplete academic secondary level\"),\n",
    "(\"instlevel5\",\" =1 complete academic secondary level\"),\n",
    "(\"instlevel6\",\" =1 incomplete technical secondary level\"),\n",
    "(\"instlevel7\",\" =1 complete technical secondary level\"),\n",
    "(\"instlevel8\",\" =1 undergraduate and higher education\"),\n",
    "(\"instlevel9\",\" =1 postgraduate higher education\"),\n",
    "(\"bedrooms\",\" number of bedrooms\"),\n",
    "(\"overcrowding\",\" # persons per room\"),\n",
    "(\"tipovivi1\",\" =1 own and fully paid house\"),\n",
    "(\"tipovivi2\",\" =1 own,   paying in installments\"),\n",
    "(\"tipovivi3\",\" =1 rented\"),\n",
    "(\"tipovivi4\",\" =1 precarious\"),\n",
    "(\"tipovivi5\",\" =1 other(assigned\"),\n",
    "(\"computer\",\" =1 if the household has notebook or desktop computer,   borrowed)\"),\n",
    "(\"television\",\" =1 if the household has TV\"),\n",
    "(\"mobilephone\",\" =1 if mobile phone\"),\n",
    "(\"qmobilephone\",\" # of mobile phones\"),\n",
    "(\"lugar1\",\" =1 region Central\"),\n",
    "(\"lugar2\",\" =1 region Chorotega\"),\n",
    "(\"lugar3\",\" =1 region PacÃƒÂ­fico central\"),\n",
    "(\"lugar4\",\" =1 region Brunca\"),\n",
    "(\"lugar5\",\" =1 region Huetar AtlÃƒÂ¡ntica\"),\n",
    "(\"lugar6\",\" =1 region Huetar Norte\"),\n",
    "(\"area1\",\" =1 zona urbana\"),\n",
    "(\"area2\",\" =2 zona rural\"),\n",
    "(\"age\",\" Age in years\"),\n",
    "(\"SQBescolari\",\" escolari squared\"),\n",
    "(\"SQBage\",\" age squared\"),\n",
    "(\"SQBhogar_total\",\" hogar_total squared\"),\n",
    "(\"SQBedjefe\",\" edjefe squared\"),\n",
    "(\"SQBhogar_nin\",\" hogar_nin squared\"),\n",
    "(\"SQBovercrowding\",\" overcrowding squared\"),\n",
    "(\"SQBdependency\",\" dependency squared\"),\n",
    "(\"SQBmeaned\",\" meaned squared\"),\n",
    "(\"agesq\",\" Age squared\"),]\n",
    "\n",
    "description = pd.DataFrame(description, columns=['varname', 'description'])"
   ]
  },
  {
   "cell_type": "code",
   "execution_count": 7,
   "metadata": {
    "_uuid": "f77544a2816dd03612a5cd72008821d896bb9fb7",
    "scrolled": true
   },
   "outputs": [
    {
     "data": {
      "text/html": [
       "<div>\n",
       "<style scoped>\n",
       "    .dataframe tbody tr th:only-of-type {\n",
       "        vertical-align: middle;\n",
       "    }\n",
       "\n",
       "    .dataframe tbody tr th {\n",
       "        vertical-align: top;\n",
       "    }\n",
       "\n",
       "    .dataframe thead th {\n",
       "        text-align: right;\n",
       "    }\n",
       "</style>\n",
       "<table border=\"1\" class=\"dataframe\">\n",
       "  <thead>\n",
       "    <tr style=\"text-align: right;\">\n",
       "      <th></th>\n",
       "      <th>varname</th>\n",
       "      <th>description</th>\n",
       "    </tr>\n",
       "  </thead>\n",
       "  <tbody>\n",
       "    <tr>\n",
       "      <th>0</th>\n",
       "      <td>v2a1</td>\n",
       "      <td>Monthly rent payment</td>\n",
       "    </tr>\n",
       "    <tr>\n",
       "      <th>1</th>\n",
       "      <td>hacdor</td>\n",
       "      <td>=1 Overcrowding by bedrooms</td>\n",
       "    </tr>\n",
       "    <tr>\n",
       "      <th>2</th>\n",
       "      <td>rooms</td>\n",
       "      <td>number of all rooms in the house</td>\n",
       "    </tr>\n",
       "    <tr>\n",
       "      <th>3</th>\n",
       "      <td>hacapo</td>\n",
       "      <td>=1 Overcrowding by rooms</td>\n",
       "    </tr>\n",
       "    <tr>\n",
       "      <th>4</th>\n",
       "      <td>v14a</td>\n",
       "      <td>=1 has toilet in the household</td>\n",
       "    </tr>\n",
       "    <tr>\n",
       "      <th>...</th>\n",
       "      <td>...</td>\n",
       "      <td>...</td>\n",
       "    </tr>\n",
       "    <tr>\n",
       "      <th>136</th>\n",
       "      <td>SQBhogar_nin</td>\n",
       "      <td>hogar_nin squared</td>\n",
       "    </tr>\n",
       "    <tr>\n",
       "      <th>137</th>\n",
       "      <td>SQBovercrowding</td>\n",
       "      <td>overcrowding squared</td>\n",
       "    </tr>\n",
       "    <tr>\n",
       "      <th>138</th>\n",
       "      <td>SQBdependency</td>\n",
       "      <td>dependency squared</td>\n",
       "    </tr>\n",
       "    <tr>\n",
       "      <th>139</th>\n",
       "      <td>SQBmeaned</td>\n",
       "      <td>meaned squared</td>\n",
       "    </tr>\n",
       "    <tr>\n",
       "      <th>140</th>\n",
       "      <td>agesq</td>\n",
       "      <td>Age squared</td>\n",
       "    </tr>\n",
       "  </tbody>\n",
       "</table>\n",
       "<p>141 rows × 2 columns</p>\n",
       "</div>"
      ],
      "text/plain": [
       "             varname                         description\n",
       "0               v2a1                Monthly rent payment\n",
       "1             hacdor         =1 Overcrowding by bedrooms\n",
       "2              rooms    number of all rooms in the house\n",
       "3             hacapo            =1 Overcrowding by rooms\n",
       "4               v14a      =1 has toilet in the household\n",
       "..               ...                                 ...\n",
       "136     SQBhogar_nin                   hogar_nin squared\n",
       "137  SQBovercrowding                overcrowding squared\n",
       "138    SQBdependency                  dependency squared\n",
       "139        SQBmeaned                      meaned squared\n",
       "140            agesq                         Age squared\n",
       "\n",
       "[141 rows x 2 columns]"
      ]
     },
     "execution_count": 7,
     "metadata": {},
     "output_type": "execute_result"
    }
   ],
   "source": [
    "description"
   ]
  },
  {
   "cell_type": "markdown",
   "metadata": {
    "_uuid": "eb86cfc0f9a39d2a18d8d49d559c6ef2dcbbeb7f"
   },
   "source": [
    "## 1.3 Check null data"
   ]
  },
  {
   "cell_type": "code",
   "execution_count": 8,
   "metadata": {
    "_uuid": "36bf2f52050d81eff74c993b9294cb8618d9415a"
   },
   "outputs": [
    {
     "data": {
      "text/html": [
       "<div>\n",
       "<style scoped>\n",
       "    .dataframe tbody tr th:only-of-type {\n",
       "        vertical-align: middle;\n",
       "    }\n",
       "\n",
       "    .dataframe tbody tr th {\n",
       "        vertical-align: top;\n",
       "    }\n",
       "\n",
       "    .dataframe thead th {\n",
       "        text-align: right;\n",
       "    }\n",
       "</style>\n",
       "<table border=\"1\" class=\"dataframe\">\n",
       "  <thead>\n",
       "    <tr style=\"text-align: right;\">\n",
       "      <th></th>\n",
       "      <th>Total</th>\n",
       "      <th>Percent</th>\n",
       "    </tr>\n",
       "  </thead>\n",
       "  <tbody>\n",
       "    <tr>\n",
       "      <th>rez_esc</th>\n",
       "      <td>7928</td>\n",
       "      <td>82.954902</td>\n",
       "    </tr>\n",
       "    <tr>\n",
       "      <th>v18q1</th>\n",
       "      <td>7342</td>\n",
       "      <td>76.823271</td>\n",
       "    </tr>\n",
       "    <tr>\n",
       "      <th>v2a1</th>\n",
       "      <td>6860</td>\n",
       "      <td>71.779847</td>\n",
       "    </tr>\n",
       "    <tr>\n",
       "      <th>meaneduc</th>\n",
       "      <td>5</td>\n",
       "      <td>0.052318</td>\n",
       "    </tr>\n",
       "    <tr>\n",
       "      <th>SQBmeaned</th>\n",
       "      <td>5</td>\n",
       "      <td>0.052318</td>\n",
       "    </tr>\n",
       "    <tr>\n",
       "      <th>techozinc</th>\n",
       "      <td>0</td>\n",
       "      <td>0.000000</td>\n",
       "    </tr>\n",
       "    <tr>\n",
       "      <th>techoentrepiso</th>\n",
       "      <td>0</td>\n",
       "      <td>0.000000</td>\n",
       "    </tr>\n",
       "    <tr>\n",
       "      <th>techocane</th>\n",
       "      <td>0</td>\n",
       "      <td>0.000000</td>\n",
       "    </tr>\n",
       "    <tr>\n",
       "      <th>techootro</th>\n",
       "      <td>0</td>\n",
       "      <td>0.000000</td>\n",
       "    </tr>\n",
       "    <tr>\n",
       "      <th>cielorazo</th>\n",
       "      <td>0</td>\n",
       "      <td>0.000000</td>\n",
       "    </tr>\n",
       "    <tr>\n",
       "      <th>abastaguadentro</th>\n",
       "      <td>0</td>\n",
       "      <td>0.000000</td>\n",
       "    </tr>\n",
       "    <tr>\n",
       "      <th>sanitario3</th>\n",
       "      <td>0</td>\n",
       "      <td>0.000000</td>\n",
       "    </tr>\n",
       "    <tr>\n",
       "      <th>abastaguafuera</th>\n",
       "      <td>0</td>\n",
       "      <td>0.000000</td>\n",
       "    </tr>\n",
       "    <tr>\n",
       "      <th>abastaguano</th>\n",
       "      <td>0</td>\n",
       "      <td>0.000000</td>\n",
       "    </tr>\n",
       "    <tr>\n",
       "      <th>public</th>\n",
       "      <td>0</td>\n",
       "      <td>0.000000</td>\n",
       "    </tr>\n",
       "    <tr>\n",
       "      <th>planpri</th>\n",
       "      <td>0</td>\n",
       "      <td>0.000000</td>\n",
       "    </tr>\n",
       "    <tr>\n",
       "      <th>noelec</th>\n",
       "      <td>0</td>\n",
       "      <td>0.000000</td>\n",
       "    </tr>\n",
       "    <tr>\n",
       "      <th>coopele</th>\n",
       "      <td>0</td>\n",
       "      <td>0.000000</td>\n",
       "    </tr>\n",
       "    <tr>\n",
       "      <th>sanitario1</th>\n",
       "      <td>0</td>\n",
       "      <td>0.000000</td>\n",
       "    </tr>\n",
       "    <tr>\n",
       "      <th>sanitario2</th>\n",
       "      <td>0</td>\n",
       "      <td>0.000000</td>\n",
       "    </tr>\n",
       "  </tbody>\n",
       "</table>\n",
       "</div>"
      ],
      "text/plain": [
       "                 Total    Percent\n",
       "rez_esc           7928  82.954902\n",
       "v18q1             7342  76.823271\n",
       "v2a1              6860  71.779847\n",
       "meaneduc             5   0.052318\n",
       "SQBmeaned            5   0.052318\n",
       "techozinc            0   0.000000\n",
       "techoentrepiso       0   0.000000\n",
       "techocane            0   0.000000\n",
       "techootro            0   0.000000\n",
       "cielorazo            0   0.000000\n",
       "abastaguadentro      0   0.000000\n",
       "sanitario3           0   0.000000\n",
       "abastaguafuera       0   0.000000\n",
       "abastaguano          0   0.000000\n",
       "public               0   0.000000\n",
       "planpri              0   0.000000\n",
       "noelec               0   0.000000\n",
       "coopele              0   0.000000\n",
       "sanitario1           0   0.000000\n",
       "sanitario2           0   0.000000"
      ]
     },
     "execution_count": 8,
     "metadata": {},
     "output_type": "execute_result"
    }
   ],
   "source": [
    "total = df_train.isnull().sum().sort_values(ascending=False)\n",
    "percent = 100 * (df_train.isnull().sum() / df_train.isnull().count()).sort_values(ascending=False)\n",
    "missing_df = pd.concat([total, percent], axis=1, keys=['Total', 'Percent'])\n",
    "\n",
    "missing_df.head(20)"
   ]
  },
  {
   "cell_type": "markdown",
   "metadata": {
    "_uuid": "509bbb24b15a3dc8fa6a69bdfd14de313b64ae27"
   },
   "source": [
    "## 1.4 Filll missing values"
   ]
  },
  {
   "cell_type": "markdown",
   "metadata": {
    "_uuid": "fa651eecfb831a687227a6702f3e2a8858ca2361"
   },
   "source": [
    "- Below cell is from this kernel. https://www.kaggle.com/skooch/lgbm-w-random-split-2"
   ]
  },
  {
   "cell_type": "code",
   "execution_count": 9,
   "metadata": {
    "_uuid": "0c79c0249a4815ae829bbb1af0f59ac393576683"
   },
   "outputs": [],
   "source": [
    "# if education is \"yes\" and person is head of household, fill with escolari\n",
    "df_train.loc[(df_train['edjefa'] == \"yes\") & (df_train['parentesco1'] == 1), \"edjefa\"] = df_train.loc[(df_train['edjefa'] == \"yes\") & (df_train['parentesco1'] == 1), \"escolari\"]\n",
    "df_train.loc[(df_train['edjefe'] == \"yes\") & (df_train['parentesco1'] == 1), \"edjefe\"] = df_train.loc[(df_train['edjefe'] == \"yes\") & (df_train['parentesco1'] == 1), \"escolari\"]\n",
    "\n",
    "df_test.loc[(df_test['edjefa'] == \"yes\") & (df_test['parentesco1'] == 1), \"edjefa\"] = df_test.loc[(df_test['edjefa'] == \"yes\") & (df_test['parentesco1'] == 1), \"escolari\"]\n",
    "df_test.loc[(df_test['edjefe'] == \"yes\") & (df_test['parentesco1'] == 1), \"edjefe\"] = df_test.loc[(df_test['edjefe'] == \"yes\") & (df_test['parentesco1'] == 1), \"escolari\"]\n",
    "\n",
    "# this field is supposed to be interaction between gender and escolari, but it isn't clear what \"yes\" means, let's fill it with 4\n",
    "df_train.loc[df_train['edjefa'] == \"yes\", \"edjefa\"] = 4\n",
    "df_train.loc[df_train['edjefe'] == \"yes\", \"edjefe\"] = 4\n",
    "\n",
    "df_test.loc[df_test['edjefa'] == \"yes\", \"edjefa\"] = 4\n",
    "df_test.loc[df_test['edjefe'] == \"yes\", \"edjefe\"] = 4\n",
    "\n",
    "# create feature with max education of either head of household\n",
    "df_train['edjef'] = np.max(df_train[['edjefa','edjefe']], axis=1)\n",
    "df_test['edjef'] = np.max(df_test[['edjefa','edjefe']], axis=1)\n",
    "\n",
    "# fix some inconsistencies in the data - some rows indicate both that the household does and does not have a toilet, \n",
    "# if there is no water we'll assume they do not\n",
    "df_train.loc[(df_train.v14a ==  1) & (df_train.sanitario1 ==  1) & (df_train.abastaguano == 0), \"v14a\"] = 0\n",
    "df_train.loc[(df_train.v14a ==  1) & (df_train.sanitario1 ==  1) & (df_train.abastaguano == 0), \"sanitario1\"] = 0\n",
    "\n",
    "df_test.loc[(df_test.v14a ==  1) & (df_test.sanitario1 ==  1) & (df_test.abastaguano == 0), \"v14a\"] = 0\n",
    "df_test.loc[(df_test.v14a ==  1) & (df_test.sanitario1 ==  1) & (df_test.abastaguano == 0), \"sanitario1\"] = 0"
   ]
  },
  {
   "cell_type": "markdown",
   "metadata": {
    "_uuid": "200a76acc1cd22e7726fa9c97d5340ae353d0f07"
   },
   "source": [
    "### rez_esz, SQBmeaned\n",
    "- rez_esc : Years behind in school -> filled with 0\n",
    "- SQBmeaned : square of the mean years of education of adults (>=18) in the household\n",
    "agesq, Age squared -> same with rez_esc -> filled with 0"
   ]
  },
  {
   "cell_type": "code",
   "execution_count": 10,
   "metadata": {
    "_uuid": "127dba2fefd3af6fd04630d9f1946377c3669fca"
   },
   "outputs": [],
   "source": [
    "df_train['rez_esc'].fillna(0, inplace=True)\n",
    "df_test['rez_esc'].fillna(0, inplace=True)"
   ]
  },
  {
   "cell_type": "code",
   "execution_count": 11,
   "metadata": {
    "_uuid": "a5aaa0a807b0bdfbd721742fa490d50077eb254b"
   },
   "outputs": [],
   "source": [
    "df_train['SQBmeaned'].fillna(0, inplace=True)\n",
    "df_test['SQBmeaned'].fillna(0, inplace=True)"
   ]
  },
  {
   "cell_type": "markdown",
   "metadata": {
    "_uuid": "a4a4b7edde6a907f8689ebc9c9084196dad7aee6"
   },
   "source": [
    "### meaneduc\n",
    "- meaneduc: average years of education for adults (18+) -> filled with 0"
   ]
  },
  {
   "cell_type": "code",
   "execution_count": 12,
   "metadata": {
    "_uuid": "a16e61ef3f2cca22fc16b52a8bae02f06b86ecb6"
   },
   "outputs": [],
   "source": [
    "df_train['meaneduc'].fillna(0, inplace=True)\n",
    "df_test['meaneduc'].fillna(0, inplace=True)"
   ]
  },
  {
   "cell_type": "markdown",
   "metadata": {
    "_uuid": "7aa115c1ad3131ee08d25f2f70a29feede9172b4"
   },
   "source": [
    "### v18q1"
   ]
  },
  {
   "cell_type": "markdown",
   "metadata": {
    "_uuid": "600b5f04fd584c3e8b6924292548d40e8f41155c"
   },
   "source": [
    "- v18q1: number of tablets household owns -> if v18q(Do you own a tablet?)  == 1, there are some values. If not, only NaN values in v18q1. See below 3 cells."
   ]
  },
  {
   "cell_type": "code",
   "execution_count": 13,
   "metadata": {
    "_uuid": "dc4dcb27b06e6edcf58d0e164b67c056239939e0"
   },
   "outputs": [
    {
     "data": {
      "text/plain": [
       "0    7342\n",
       "1    2215\n",
       "Name: v18q, dtype: int64"
      ]
     },
     "execution_count": 13,
     "metadata": {},
     "output_type": "execute_result"
    }
   ],
   "source": [
    "df_train['v18q'].value_counts()"
   ]
  },
  {
   "cell_type": "markdown",
   "metadata": {
    "_uuid": "31dd039e17ec249a681c0f9a7259d55d8d21dae0"
   },
   "source": [
    "- v18q1: number of tablets household owns -> if v18q  == 1, there are some values. If not, only NaN values there. See below two cells."
   ]
  },
  {
   "cell_type": "code",
   "execution_count": 14,
   "metadata": {
    "_uuid": "8369998ea4a764a7e1ec93ec020e80a07721f386"
   },
   "outputs": [
    {
     "data": {
      "text/plain": [
       "1.0    1586\n",
       "2.0     444\n",
       "3.0     129\n",
       "4.0      37\n",
       "5.0      13\n",
       "6.0       6\n",
       "Name: v18q1, dtype: int64"
      ]
     },
     "execution_count": 14,
     "metadata": {},
     "output_type": "execute_result"
    }
   ],
   "source": [
    "df_train.loc[df_train['v18q'] == 1, 'v18q1'].value_counts()"
   ]
  },
  {
   "cell_type": "code",
   "execution_count": 15,
   "metadata": {
    "_uuid": "1af5623dc1c128f4f9f9902255c42ffd2e48da8f"
   },
   "outputs": [
    {
     "data": {
      "text/plain": [
       "Series([], Name: v18q1, dtype: int64)"
      ]
     },
     "execution_count": 15,
     "metadata": {},
     "output_type": "execute_result"
    }
   ],
   "source": [
    "df_train.loc[df_train['v18q'] == 0, 'v18q1'].value_counts()"
   ]
  },
  {
   "cell_type": "code",
   "execution_count": 16,
   "metadata": {
    "_uuid": "97be2ff581a3e1a28a47c7636476bc04ad05e30f"
   },
   "outputs": [],
   "source": [
    "df_train['v18q1'].fillna(0, inplace=True)\n",
    "df_test['v18q1'].fillna(0, inplace=True)"
   ]
  },
  {
   "cell_type": "markdown",
   "metadata": {
    "_uuid": "092e8fd58e055c60fd7ff93bb36d33f976cf878e"
   },
   "source": [
    "- v2a1: number of tablets household owns -> if tipovivi3(rented?)  == 1, there are some values. If not, there are also some values.\n",
    "- NaN value could be replaced by 0."
   ]
  },
  {
   "cell_type": "code",
   "execution_count": 17,
   "metadata": {
    "_uuid": "32ccf926a9ae978a69066c4e92eabb594ac0a934",
    "scrolled": true
   },
   "outputs": [
    {
     "data": {
      "text/plain": [
       "0    7821\n",
       "1    1736\n",
       "Name: tipovivi3, dtype: int64"
      ]
     },
     "execution_count": 17,
     "metadata": {},
     "output_type": "execute_result"
    }
   ],
   "source": [
    "df_train['tipovivi3'].value_counts()"
   ]
  },
  {
   "cell_type": "code",
   "execution_count": 18,
   "metadata": {
    "_uuid": "4ac878b73107bc2a3fc899e3a6f08814d7e09461",
    "scrolled": true
   },
   "outputs": [
    {
     "data": {
      "image/png": "[encoded data removed]",
      "text/plain": [
       "<Figure size 576x396 with 1 Axes>"
      ]
     },
     "metadata": {},
     "output_type": "display_data"
    }
   ],
   "source": [
    "sns.kdeplot(df_train.loc[df_train['tipovivi3'] == 1, 'v2a1'], label='Monthly rent payment of household(rented=1)')\n",
    "sns.kdeplot(df_train.loc[df_train['tipovivi3'] == 0, 'v2a1'], label='Monthly rent payment of household(rented=0)')\n",
    "plt.xscale('log')\n",
    "plt.show()"
   ]
  },
  {
   "cell_type": "code",
   "execution_count": 19,
   "metadata": {
    "_uuid": "b33114c2780547e5b2a20c099e1d3aba2dcafead"
   },
   "outputs": [],
   "source": [
    "df_train['v2a1'].fillna(0, inplace=True)\n",
    "df_test['v2a1'].fillna(0, inplace=True)"
   ]
  },
  {
   "cell_type": "code",
   "execution_count": 20,
   "metadata": {
    "_uuid": "bac22efd261f35c249e261a613ac8ed840248675"
   },
   "outputs": [
    {
     "data": {
      "text/html": [
       "<div>\n",
       "<style scoped>\n",
       "    .dataframe tbody tr th:only-of-type {\n",
       "        vertical-align: middle;\n",
       "    }\n",
       "\n",
       "    .dataframe tbody tr th {\n",
       "        vertical-align: top;\n",
       "    }\n",
       "\n",
       "    .dataframe thead th {\n",
       "        text-align: right;\n",
       "    }\n",
       "</style>\n",
       "<table border=\"1\" class=\"dataframe\">\n",
       "  <thead>\n",
       "    <tr style=\"text-align: right;\">\n",
       "      <th></th>\n",
       "      <th>Total</th>\n",
       "      <th>Percent</th>\n",
       "    </tr>\n",
       "  </thead>\n",
       "  <tbody>\n",
       "    <tr>\n",
       "      <th>edjef</th>\n",
       "      <td>9557</td>\n",
       "      <td>100.0</td>\n",
       "    </tr>\n",
       "    <tr>\n",
       "      <th>Target</th>\n",
       "      <td>0</td>\n",
       "      <td>0.0</td>\n",
       "    </tr>\n",
       "    <tr>\n",
       "      <th>sanitario3</th>\n",
       "      <td>0</td>\n",
       "      <td>0.0</td>\n",
       "    </tr>\n",
       "    <tr>\n",
       "      <th>sanitario2</th>\n",
       "      <td>0</td>\n",
       "      <td>0.0</td>\n",
       "    </tr>\n",
       "    <tr>\n",
       "      <th>sanitario1</th>\n",
       "      <td>0</td>\n",
       "      <td>0.0</td>\n",
       "    </tr>\n",
       "    <tr>\n",
       "      <th>coopele</th>\n",
       "      <td>0</td>\n",
       "      <td>0.0</td>\n",
       "    </tr>\n",
       "    <tr>\n",
       "      <th>noelec</th>\n",
       "      <td>0</td>\n",
       "      <td>0.0</td>\n",
       "    </tr>\n",
       "    <tr>\n",
       "      <th>planpri</th>\n",
       "      <td>0</td>\n",
       "      <td>0.0</td>\n",
       "    </tr>\n",
       "    <tr>\n",
       "      <th>public</th>\n",
       "      <td>0</td>\n",
       "      <td>0.0</td>\n",
       "    </tr>\n",
       "    <tr>\n",
       "      <th>abastaguano</th>\n",
       "      <td>0</td>\n",
       "      <td>0.0</td>\n",
       "    </tr>\n",
       "    <tr>\n",
       "      <th>abastaguafuera</th>\n",
       "      <td>0</td>\n",
       "      <td>0.0</td>\n",
       "    </tr>\n",
       "    <tr>\n",
       "      <th>abastaguadentro</th>\n",
       "      <td>0</td>\n",
       "      <td>0.0</td>\n",
       "    </tr>\n",
       "    <tr>\n",
       "      <th>cielorazo</th>\n",
       "      <td>0</td>\n",
       "      <td>0.0</td>\n",
       "    </tr>\n",
       "    <tr>\n",
       "      <th>techootro</th>\n",
       "      <td>0</td>\n",
       "      <td>0.0</td>\n",
       "    </tr>\n",
       "    <tr>\n",
       "      <th>techocane</th>\n",
       "      <td>0</td>\n",
       "      <td>0.0</td>\n",
       "    </tr>\n",
       "    <tr>\n",
       "      <th>techoentrepiso</th>\n",
       "      <td>0</td>\n",
       "      <td>0.0</td>\n",
       "    </tr>\n",
       "    <tr>\n",
       "      <th>techozinc</th>\n",
       "      <td>0</td>\n",
       "      <td>0.0</td>\n",
       "    </tr>\n",
       "    <tr>\n",
       "      <th>sanitario5</th>\n",
       "      <td>0</td>\n",
       "      <td>0.0</td>\n",
       "    </tr>\n",
       "    <tr>\n",
       "      <th>sanitario6</th>\n",
       "      <td>0</td>\n",
       "      <td>0.0</td>\n",
       "    </tr>\n",
       "    <tr>\n",
       "      <th>energcocinar1</th>\n",
       "      <td>0</td>\n",
       "      <td>0.0</td>\n",
       "    </tr>\n",
       "  </tbody>\n",
       "</table>\n",
       "</div>"
      ],
      "text/plain": [
       "                 Total  Percent\n",
       "edjef             9557    100.0\n",
       "Target               0      0.0\n",
       "sanitario3           0      0.0\n",
       "sanitario2           0      0.0\n",
       "sanitario1           0      0.0\n",
       "coopele              0      0.0\n",
       "noelec               0      0.0\n",
       "planpri              0      0.0\n",
       "public               0      0.0\n",
       "abastaguano          0      0.0\n",
       "abastaguafuera       0      0.0\n",
       "abastaguadentro      0      0.0\n",
       "cielorazo            0      0.0\n",
       "techootro            0      0.0\n",
       "techocane            0      0.0\n",
       "techoentrepiso       0      0.0\n",
       "techozinc            0      0.0\n",
       "sanitario5           0      0.0\n",
       "sanitario6           0      0.0\n",
       "energcocinar1        0      0.0"
      ]
     },
     "execution_count": 20,
     "metadata": {},
     "output_type": "execute_result"
    }
   ],
   "source": [
    "total = df_train.isnull().sum().sort_values(ascending=False)\n",
    "percent = 100 * (df_train.isnull().sum() / df_train.isnull().count()).sort_values(ascending=False)\n",
    "missing_df = pd.concat([total, percent], axis=1, keys=['Total', 'Percent'])\n",
    "\n",
    "missing_df.head(20)"
   ]
  },
  {
   "cell_type": "code",
   "execution_count": 21,
   "metadata": {
    "_uuid": "bb1719d91bf48298ee014e014eb62278f5faf66d"
   },
   "outputs": [
    {
     "data": {
      "text/html": [
       "<div>\n",
       "<style scoped>\n",
       "    .dataframe tbody tr th:only-of-type {\n",
       "        vertical-align: middle;\n",
       "    }\n",
       "\n",
       "    .dataframe tbody tr th {\n",
       "        vertical-align: top;\n",
       "    }\n",
       "\n",
       "    .dataframe thead th {\n",
       "        text-align: right;\n",
       "    }\n",
       "</style>\n",
       "<table border=\"1\" class=\"dataframe\">\n",
       "  <thead>\n",
       "    <tr style=\"text-align: right;\">\n",
       "      <th></th>\n",
       "      <th>Total</th>\n",
       "      <th>Percent</th>\n",
       "    </tr>\n",
       "  </thead>\n",
       "  <tbody>\n",
       "    <tr>\n",
       "      <th>edjef</th>\n",
       "      <td>23856</td>\n",
       "      <td>100.0</td>\n",
       "    </tr>\n",
       "    <tr>\n",
       "      <th>abastaguano</th>\n",
       "      <td>0</td>\n",
       "      <td>0.0</td>\n",
       "    </tr>\n",
       "    <tr>\n",
       "      <th>sanitario2</th>\n",
       "      <td>0</td>\n",
       "      <td>0.0</td>\n",
       "    </tr>\n",
       "    <tr>\n",
       "      <th>sanitario1</th>\n",
       "      <td>0</td>\n",
       "      <td>0.0</td>\n",
       "    </tr>\n",
       "    <tr>\n",
       "      <th>coopele</th>\n",
       "      <td>0</td>\n",
       "      <td>0.0</td>\n",
       "    </tr>\n",
       "    <tr>\n",
       "      <th>noelec</th>\n",
       "      <td>0</td>\n",
       "      <td>0.0</td>\n",
       "    </tr>\n",
       "    <tr>\n",
       "      <th>planpri</th>\n",
       "      <td>0</td>\n",
       "      <td>0.0</td>\n",
       "    </tr>\n",
       "    <tr>\n",
       "      <th>public</th>\n",
       "      <td>0</td>\n",
       "      <td>0.0</td>\n",
       "    </tr>\n",
       "    <tr>\n",
       "      <th>abastaguafuera</th>\n",
       "      <td>0</td>\n",
       "      <td>0.0</td>\n",
       "    </tr>\n",
       "    <tr>\n",
       "      <th>sanitario5</th>\n",
       "      <td>0</td>\n",
       "      <td>0.0</td>\n",
       "    </tr>\n",
       "    <tr>\n",
       "      <th>abastaguadentro</th>\n",
       "      <td>0</td>\n",
       "      <td>0.0</td>\n",
       "    </tr>\n",
       "    <tr>\n",
       "      <th>cielorazo</th>\n",
       "      <td>0</td>\n",
       "      <td>0.0</td>\n",
       "    </tr>\n",
       "    <tr>\n",
       "      <th>techootro</th>\n",
       "      <td>0</td>\n",
       "      <td>0.0</td>\n",
       "    </tr>\n",
       "    <tr>\n",
       "      <th>techocane</th>\n",
       "      <td>0</td>\n",
       "      <td>0.0</td>\n",
       "    </tr>\n",
       "    <tr>\n",
       "      <th>techoentrepiso</th>\n",
       "      <td>0</td>\n",
       "      <td>0.0</td>\n",
       "    </tr>\n",
       "    <tr>\n",
       "      <th>techozinc</th>\n",
       "      <td>0</td>\n",
       "      <td>0.0</td>\n",
       "    </tr>\n",
       "    <tr>\n",
       "      <th>sanitario3</th>\n",
       "      <td>0</td>\n",
       "      <td>0.0</td>\n",
       "    </tr>\n",
       "    <tr>\n",
       "      <th>sanitario6</th>\n",
       "      <td>0</td>\n",
       "      <td>0.0</td>\n",
       "    </tr>\n",
       "    <tr>\n",
       "      <th>pisonotiene</th>\n",
       "      <td>0</td>\n",
       "      <td>0.0</td>\n",
       "    </tr>\n",
       "    <tr>\n",
       "      <th>elimbasu5</th>\n",
       "      <td>0</td>\n",
       "      <td>0.0</td>\n",
       "    </tr>\n",
       "  </tbody>\n",
       "</table>\n",
       "</div>"
      ],
      "text/plain": [
       "                 Total  Percent\n",
       "edjef            23856    100.0\n",
       "abastaguano          0      0.0\n",
       "sanitario2           0      0.0\n",
       "sanitario1           0      0.0\n",
       "coopele              0      0.0\n",
       "noelec               0      0.0\n",
       "planpri              0      0.0\n",
       "public               0      0.0\n",
       "abastaguafuera       0      0.0\n",
       "sanitario5           0      0.0\n",
       "abastaguadentro      0      0.0\n",
       "cielorazo            0      0.0\n",
       "techootro            0      0.0\n",
       "techocane            0      0.0\n",
       "techoentrepiso       0      0.0\n",
       "techozinc            0      0.0\n",
       "sanitario3           0      0.0\n",
       "sanitario6           0      0.0\n",
       "pisonotiene          0      0.0\n",
       "elimbasu5            0      0.0"
      ]
     },
     "execution_count": 21,
     "metadata": {},
     "output_type": "execute_result"
    }
   ],
   "source": [
    "total = df_test.isnull().sum().sort_values(ascending=False)\n",
    "percent = 100 * (df_test.isnull().sum() / df_test.isnull().count()).sort_values(ascending=False)\n",
    "missing_df = pd.concat([total, percent], axis=1, keys=['Total', 'Percent'])\n",
    "\n",
    "missing_df.head(20)"
   ]
  },
  {
   "cell_type": "markdown",
   "metadata": {
    "_uuid": "2a3a99f2719bbf382bb672b43b0c92f588ac4861"
   },
   "source": [
    "### For now, there are no NaN values."
   ]
  },
  {
   "cell_type": "markdown",
   "metadata": {
    "_uuid": "34047b73af01f9f447ae8949c53f5d002fca68eb"
   },
   "source": [
    "# 2. Feature engineering"
   ]
  },
  {
   "cell_type": "markdown",
   "metadata": {
    "_uuid": "1c99f77f2e7bac40b2a4e2304c63fbcce3093576"
   },
   "source": [
    "## 2.1 Object features"
   ]
  },
  {
   "cell_type": "code",
   "execution_count": 22,
   "metadata": {
    "_uuid": "51f880f4f9046dc528a207935bc35a325162917a"
   },
   "outputs": [],
   "source": [
    "features_object = [col for col in df_train.columns if df_train[col].dtype == 'object']"
   ]
  },
  {
   "cell_type": "code",
   "execution_count": 23,
   "metadata": {
    "_uuid": "1ba93d17efb955c9076160b5c8e526cd8ee81942"
   },
   "outputs": [
    {
     "data": {
      "text/plain": [
       "['Id', 'idhogar', 'dependency', 'edjefe', 'edjefa']"
      ]
     },
     "execution_count": 23,
     "metadata": {},
     "output_type": "execute_result"
    }
   ],
   "source": [
    "features_object"
   ]
  },
  {
   "cell_type": "markdown",
   "metadata": {
    "_uuid": "b2e20d63e4d89d273e2cbe987e9aed52ade4b2b1"
   },
   "source": [
    "### dependecy"
   ]
  },
  {
   "cell_type": "code",
   "execution_count": 24,
   "metadata": {
    "_uuid": "8a067efcf3850a0e2673f0346430a1fda9fff92b",
    "scrolled": true
   },
   "outputs": [],
   "source": [
    "# some dependencies are Na, fill those with the square root of the square\n",
    "df_train['dependency'] = np.sqrt(df_train['SQBdependency'])\n",
    "df_test['dependency'] = np.sqrt(df_test['SQBdependency'])"
   ]
  },
  {
   "cell_type": "code",
   "execution_count": 25,
   "metadata": {
    "_uuid": "15db8892dbac81bda52cba8b65a4b0eb6413cdb1"
   },
   "outputs": [],
   "source": [
    "# df_train['dependency'] = df_train['dependency'].replace({np.inf: 0})\n",
    "# df_test['dependency'] = df_test['dependency'].replace({np.inf: 0})\n",
    "\n",
    "# def replace_dependency(x):\n",
    "#     if x == 'yes':\n",
    "#         return 10\n",
    "#     elif x == 'no':\n",
    "#         return 0\n",
    "#     else:\n",
    "#         return x\n",
    "\n",
    "# df_train['dependency'] = df_train['dependency'].apply(replace_dependency).astype(float)\n",
    "# df_test['dependency'] = df_test['dependency'].apply(replace_dependency).astype(float)\n",
    "\n",
    "# - As you can see, setting yes -> 10 and no -> 0 is good choice.\n",
    "# - At first, fill inf value with 0."
   ]
  },
  {
   "cell_type": "markdown",
   "metadata": {
    "_uuid": "c300c4453bbec936b18ec3e86e6524cf520184d1"
   },
   "source": [
    "### edjefe\n",
    "- edjefe, years of education of male head of household, based on the interaction of escolari (years of education), head of household and gender, yes=1 and no=0\n",
    "- replace yes -> 1 and no -> 0"
   ]
  },
  {
   "cell_type": "code",
   "execution_count": 26,
   "metadata": {
    "_uuid": "446ce42d405cb1869062383117ebfa463749969c"
   },
   "outputs": [],
   "source": [
    "def replace_edjefe(x):\n",
    "    if x == 'yes':\n",
    "        return 1\n",
    "    elif x == 'no':\n",
    "        return 0\n",
    "    else:\n",
    "        return x\n",
    "\n",
    "df_train['edjefe'] = df_train['edjefe'].apply(replace_edjefe).astype(float)\n",
    "df_test['edjefe'] = df_test['edjefe'].apply(replace_edjefe).astype(float)"
   ]
  },
  {
   "cell_type": "markdown",
   "metadata": {
    "_uuid": "9470bff2cd416af6190e57632126c7c12e376050"
   },
   "source": [
    "### edjefa"
   ]
  },
  {
   "cell_type": "markdown",
   "metadata": {
    "_uuid": "450cc5abdfe849b70c3500628efd67f04fece758"
   },
   "source": [
    "- edjefa, years of education of female head of household, based on the interaction of escolari (years of education), head of household and gender, yes=1 and no=0\n",
    "- replace yes -> 1 and no -> 0"
   ]
  },
  {
   "cell_type": "code",
   "execution_count": 27,
   "metadata": {
    "_uuid": "f7b42773d15495ffb1f3dd035b00074439cb8f66"
   },
   "outputs": [],
   "source": [
    "def replace_edjefa(x):\n",
    "    if x == 'yes':\n",
    "        return 1\n",
    "    elif x == 'no':\n",
    "        return 0\n",
    "    else:\n",
    "        return x\n",
    "\n",
    "df_train['edjefa'] = df_train['edjefa'].apply(replace_edjefa).astype(float)\n",
    "df_test['edjefa'] = df_test['edjefa'].apply(replace_edjefa).astype(float)"
   ]
  },
  {
   "cell_type": "code",
   "execution_count": 28,
   "metadata": {
    "_uuid": "8861fe2bde9e657f4a6989a6f3c453eed6ed0a0b"
   },
   "outputs": [],
   "source": [
    "# create feature with max education of either head of household\n",
    "df_train['edjef'] = np.max(df_train[['edjefa','edjefe']], axis=1)\n",
    "df_test['edjef'] = np.max(df_test[['edjefa','edjefe']], axis=1)"
   ]
  },
  {
   "cell_type": "markdown",
   "metadata": {
    "_uuid": "5c550735bdfb9f17560b1b33421b40d4990d6905"
   },
   "source": [
    "## roof and electricity\n",
    "- I refered to https://www.kaggle.com/mineshjethva/exploratory-data-analysis-lightgbm. Thanks!"
   ]
  },
  {
   "cell_type": "code",
   "execution_count": 29,
   "metadata": {
    "_uuid": "c48f57d758c07fd47ec4c530e778eeada8976a7d"
   },
   "outputs": [],
   "source": [
    "df_train['roof_waste_material'] = np.nan\n",
    "df_test['roof_waste_material'] = np.nan\n",
    "df_train['electricity_other'] = np.nan\n",
    "df_test['electricity_other'] = np.nan\n",
    "\n",
    "def fill_roof_exception(x):\n",
    "    if (x['techozinc'] == 0) and (x['techoentrepiso'] == 0) and (x['techocane'] == 0) and (x['techootro'] == 0):\n",
    "        return 1\n",
    "    else:\n",
    "        return 0\n",
    "    \n",
    "def fill_no_electricity(x):\n",
    "    if (x['public'] == 0) and (x['planpri'] == 0) and (x['noelec'] == 0) and (x['coopele'] == 0):\n",
    "        return 1\n",
    "    else:\n",
    "        return 0\n",
    "\n",
    "df_train['roof_waste_material'] = df_train.apply(lambda x : fill_roof_exception(x),axis=1)\n",
    "df_test['roof_waste_material'] = df_test.apply(lambda x : fill_roof_exception(x),axis=1)\n",
    "df_train['electricity_other'] = df_train.apply(lambda x : fill_no_electricity(x),axis=1)\n",
    "df_test['electricity_other'] = df_test.apply(lambda x : fill_no_electricity(x),axis=1)"
   ]
  },
  {
   "cell_type": "markdown",
   "metadata": {
    "_uuid": "9c913c59f17a28c5414c1e6d18ec8c98f5b09a13"
   },
   "source": [
    "## 2.2 Extract cat features\n",
    "- According to data scription, there are many binary category features."
   ]
  },
  {
   "cell_type": "code",
   "execution_count": 30,
   "metadata": {
    "_uuid": "a20579541c69fdbef62329df3ffd115bd1fb2c1f"
   },
   "outputs": [],
   "source": [
    "binary_cat_features = [col for col in df_train.columns if df_train[col].value_counts().shape[0] == 2]"
   ]
  },
  {
   "cell_type": "markdown",
   "metadata": {
    "_uuid": "62d933626a1eb27eee31722a174ceeb1f5260506"
   },
   "source": [
    "## 2.3 Make new features using continuous feature"
   ]
  },
  {
   "cell_type": "code",
   "execution_count": 31,
   "metadata": {
    "_uuid": "0a06da54bb9640b8c2d0b20c182371a8dc4d7bb3"
   },
   "outputs": [],
   "source": [
    "continuous_features = [col for col in df_train.columns if col not in binary_cat_features]\n",
    "continuous_features = [col for col in continuous_features if col not in features_object]\n",
    "continuous_features = [col for col in continuous_features if col not in ['Id', 'Target', 'idhogar']]"
   ]
  },
  {
   "cell_type": "code",
   "execution_count": 32,
   "metadata": {
    "_uuid": "2361e957db8bd5697aa3f14087a17bf48bfcdc6c",
    "scrolled": false
   },
   "outputs": [
    {
     "name": "stdout",
     "output_type": "stream",
     "text": [
      "There are 37 continuous features\n",
      "v2a1: [' Monthly rent payment']\n",
      "rooms: ['  number of all rooms in the house']\n",
      "v18q1: [' number of tablets household owns']\n",
      "r4h1: [' Males younger than 12 years of age']\n",
      "r4h2: [' Males 12 years of age and older']\n",
      "r4h3: [' Total males in the household']\n",
      "r4m1: [' Females younger than 12 years of age']\n",
      "r4m2: [' Females 12 years of age and older']\n",
      "r4m3: [' Total females in the household']\n",
      "r4t1: [' persons younger than 12 years of age']\n",
      "r4t2: [' persons 12 years of age and older']\n",
      "r4t3: [' Total persons in the household']\n",
      "tamhog: [' size of the household']\n",
      "tamviv: [' number of persons living in the household']\n",
      "escolari: [' years of schooling']\n",
      "rez_esc: [' Years behind in school']\n",
      "hhsize: [' household size']\n",
      "elimbasu5: [' =1 if rubbish disposal mainly by throwing in river,   creek or sea']\n",
      "hogar_nin: [' Number of children 0 to 19 in household']\n",
      "hogar_adul: [' Number of adults in household']\n",
      "hogar_mayor: [' # of individuals 65+ in the household']\n",
      "hogar_total: [' # of total individuals in the household']\n",
      "meaneduc: ['average years of education for adults (18+)']\n",
      "bedrooms: [' number of bedrooms']\n",
      "overcrowding: [' # persons per room']\n",
      "qmobilephone: [' # of mobile phones']\n",
      "age: [' Age in years']\n",
      "SQBescolari: [' escolari squared']\n",
      "SQBage: [' age squared']\n",
      "SQBhogar_total: [' hogar_total squared']\n",
      "SQBedjefe: [' edjefe squared']\n",
      "SQBhogar_nin: [' hogar_nin squared']\n",
      "SQBovercrowding: [' overcrowding squared']\n",
      "SQBdependency: [' dependency squared']\n",
      "SQBmeaned: [' meaned squared']\n",
      "agesq: [' Age squared']\n",
      "edjef: []\n"
     ]
    }
   ],
   "source": [
    "print('There are {} continuous features'.format(len(continuous_features)))\n",
    "for col in continuous_features:\n",
    "    print('{}: {}'.format(col, description.loc[description['varname'] == col, 'description'].values))"
   ]
  },
  {
   "cell_type": "markdown",
   "metadata": {
    "_uuid": "a39897f86c6502c2467beaf824373870b94d51bf"
   },
   "source": [
    "- hhsize : household size\n",
    "- tamhog : size of the household\n",
    "\n",
    "What is different?"
   ]
  },
  {
   "cell_type": "markdown",
   "metadata": {
    "_uuid": "0c63dadb664a2ea3c7fc3de989545100ef27570e"
   },
   "source": [
    "- As you can see, the meaning of two features are same but the exact number are different. Are they different?\n",
    "- I don't know.  For now, I decided to drop one feature 'tamhog'."
   ]
  },
  {
   "cell_type": "code",
   "execution_count": 33,
   "metadata": {
    "_uuid": "3a34ab43e55dfbf649925dccb77c1528652ea744"
   },
   "outputs": [
    {
     "data": {
      "text/plain": [
       "6.0     2792\n",
       "11.0    1150\n",
       "9.0      723\n",
       "8.0      474\n",
       "15.0     473\n",
       "3.0      459\n",
       "0.0      435\n",
       "7.0      413\n",
       "4.0      400\n",
       "5.0      398\n",
       "14.0     328\n",
       "17.0     278\n",
       "2.0      278\n",
       "16.0     247\n",
       "10.0     207\n",
       "12.0     185\n",
       "13.0     155\n",
       "1.0       65\n",
       "21.0      48\n",
       "18.0      22\n",
       "19.0      18\n",
       "20.0       9\n",
       "Name: edjef, dtype: int64"
      ]
     },
     "execution_count": 33,
     "metadata": {},
     "output_type": "execute_result"
    }
   ],
   "source": [
    "df_train['edjef'].value_counts()"
   ]
  },
  {
   "cell_type": "code",
   "execution_count": 34,
   "metadata": {
    "_uuid": "9dfb6abf3157d7ea9e50c13cb9d6f146e6bb9a1e"
   },
   "outputs": [],
   "source": [
    "df_train.drop('tamhog', axis=1, inplace=True)\n",
    "df_test.drop('tamhog', axis=1, inplace=True)"
   ]
  },
  {
   "cell_type": "markdown",
   "metadata": {
    "_uuid": "7c030d812b81f5cabe9ba520fc936c7f6fa4f16b"
   },
   "source": [
    "### Family features\n",
    "- hogar_nin, hogar_adul, hogar_mayor, hogar_total, r4h1, r4h2, r4h3, r4m1, r4m2, r4m3, r4t1, r4t2, r4t3, tmbhog, tamvid, rez_esc, escolari"
   ]
  },
  {
   "cell_type": "markdown",
   "metadata": {
    "_uuid": "fb2fb6e49e524210213c34a48eab18ba9dac74e7"
   },
   "source": [
    "- Family size features (substract, ratio)"
   ]
  },
  {
   "cell_type": "code",
   "execution_count": 35,
   "metadata": {
    "_uuid": "43241b2ae7c0e3aefab06fbe4f8496ef666f365e"
   },
   "outputs": [],
   "source": [
    "df_train['adult'] = df_train['hogar_adul'] - df_train['hogar_mayor']\n",
    "df_train['dependency_count'] = df_train['hogar_nin'] + df_train['hogar_mayor']\n",
    "df_train['dependency'] = df_train['dependency_count'] / df_train['adult']\n",
    "df_train['child_percent'] = df_train['hogar_nin'] / df_train['hogar_total']\n",
    "df_train['elder_percent'] = df_train['hogar_mayor'] / df_train['hogar_total']\n",
    "df_train['adult_percent'] = df_train['hogar_adul'] / df_train['hogar_total']\n",
    "df_train['males_younger_12_years_percent'] = df_train['r4h1'] / df_train['hogar_total']\n",
    "df_train['males_older_12_years_percent'] = df_train['r4h2'] / df_train['hogar_total']\n",
    "df_train['males_percent'] = df_train['r4h3'] / df_train['hogar_total']\n",
    "df_train['females_younger_12_years_percent'] = df_train['r4m1'] / df_train['hogar_total']\n",
    "df_train['females_older_12_years_percent'] = df_train['r4m2'] / df_train['hogar_total']\n",
    "df_train['females_percent'] = df_train['r4m3'] / df_train['hogar_total']\n",
    "df_train['persons_younger_12_years_percent'] = df_train['r4t1'] / df_train['hogar_total']\n",
    "df_train['persons_older_12_years_percent'] = df_train['r4t2'] / df_train['hogar_total']\n",
    "df_train['persons_percent'] = df_train['r4t3'] / df_train['hogar_total']"
   ]
  },
  {
   "cell_type": "code",
   "execution_count": 36,
   "metadata": {
    "_uuid": "c4b3e88987e3810303007f158e8671b7463922be"
   },
   "outputs": [],
   "source": [
    "df_test['adult'] = df_test['hogar_adul'] - df_test['hogar_mayor']\n",
    "df_test['dependency_count'] = df_test['hogar_nin'] + df_test['hogar_mayor']\n",
    "df_test['dependency'] = df_test['dependency_count'] / df_test['adult']\n",
    "df_test['child_percent'] = df_test['hogar_nin'] / df_test['hogar_total']\n",
    "df_test['elder_percent'] = df_test['hogar_mayor'] / df_test['hogar_total']\n",
    "df_test['adult_percent'] = df_test['hogar_adul'] / df_test['hogar_total']\n",
    "df_test['males_younger_12_years_percent'] = df_test['r4h1'] / df_test['hogar_total']\n",
    "df_test['males_older_12_years_percent'] = df_test['r4h2'] / df_test['hogar_total']\n",
    "df_test['males_percent'] = df_test['r4h3'] / df_test['hogar_total']\n",
    "df_test['females_younger_12_years_percent'] = df_test['r4m1'] / df_test['hogar_total']\n",
    "df_test['females_older_12_years_percent'] = df_test['r4m2'] / df_test['hogar_total']\n",
    "df_test['females_percent'] = df_test['r4m3'] / df_test['hogar_total']\n",
    "df_test['persons_younger_12_years_percent'] = df_test['r4t1'] / df_test['hogar_total']\n",
    "df_test['persons_older_12_years_percent'] = df_test['r4t2'] / df_test['hogar_total']\n",
    "df_test['persons_percent'] = df_test['r4t3'] / df_test['hogar_total']"
   ]
  },
  {
   "cell_type": "code",
   "execution_count": 37,
   "metadata": {
    "_uuid": "bc1b3be9be5f6193bd716d109f88236fc6b2e824"
   },
   "outputs": [],
   "source": [
    "df_train['males_younger_12_years_in_household_size'] = df_train['r4h1'] / df_train['hhsize']\n",
    "df_train['males_older_12_years_in_household_size'] = df_train['r4h2'] / df_train['hhsize']\n",
    "df_train['males_in_household_size'] = df_train['r4h3'] / df_train['hhsize']\n",
    "df_train['females_younger_12_years_in_household_size'] = df_train['r4m1'] / df_train['hhsize']\n",
    "df_train['females_older_12_years_in_household_size'] = df_train['r4m2'] / df_train['hhsize']\n",
    "df_train['females_in_household_size'] = df_train['r4m3'] / df_train['hogar_total']\n",
    "df_train['persons_younger_12_years_in_household_size'] = df_train['r4t1'] / df_train['hhsize']\n",
    "df_train['persons_older_12_years_in_household_size'] = df_train['r4t2'] / df_train['hhsize']\n",
    "df_train['persons_in_household_size'] = df_train['r4t3'] / df_train['hhsize']"
   ]
  },
  {
   "cell_type": "code",
   "execution_count": 38,
   "metadata": {
    "_uuid": "ad7e56aa99bbc7c6aeaae9d203e41f05a044999b"
   },
   "outputs": [],
   "source": [
    "df_test['males_younger_12_years_in_household_size'] = df_test['r4h1'] / df_test['hhsize']\n",
    "df_test['males_older_12_years_in_household_size'] = df_test['r4h2'] / df_test['hhsize']\n",
    "df_test['males_in_household_size'] = df_test['r4h3'] / df_test['hhsize']\n",
    "df_test['females_younger_12_years_in_household_size'] = df_test['r4m1'] / df_test['hhsize']\n",
    "df_test['females_older_12_years_in_household_size'] = df_test['r4m2'] / df_test['hhsize']\n",
    "df_test['females_in_household_size'] = df_test['r4m3'] / df_test['hogar_total']\n",
    "df_test['persons_younger_12_years_in_household_size'] = df_test['r4t1'] / df_test['hhsize']\n",
    "df_test['persons_older_12_years_in_household_size'] = df_test['r4t2'] / df_test['hhsize']\n",
    "df_test['persons_in_household_size'] = df_test['r4t3'] / df_test['hhsize']"
   ]
  },
  {
   "cell_type": "code",
   "execution_count": 39,
   "metadata": {
    "_uuid": "fa2654cecf992480b6fc09e94102b407c561a93d"
   },
   "outputs": [],
   "source": [
    "df_train['overcrowding_room_and_bedroom'] = (df_train['hacdor'] + df_train['hacapo'])/2\n",
    "df_test['overcrowding_room_and_bedroom'] = (df_test['hacdor'] + df_test['hacapo'])/2"
   ]
  },
  {
   "cell_type": "code",
   "execution_count": 40,
   "metadata": {
    "_uuid": "388604d788a438b1125a6581dcc128fe89d1a2e9"
   },
   "outputs": [],
   "source": [
    "df_train['escolari_age'] = df_train['escolari']/df_train['age']\n",
    "df_test['escolari_age'] = df_test['escolari']/df_test['age']\n",
    "\n",
    "df_train['age_12_19'] = df_train['hogar_nin'] - df_train['r4t1']\n",
    "df_test['age_12_19'] = df_test['hogar_nin'] - df_test['r4t1']  "
   ]
  },
  {
   "cell_type": "code",
   "execution_count": 41,
   "metadata": {
    "_uuid": "692040a446fa5c6967c2b0ca508c8f23b567970a"
   },
   "outputs": [],
   "source": [
    "df_train['phones-per-capita'] = df_train['qmobilephone'] / df_train['tamviv']\n",
    "df_train['tablets-per-capita'] = df_train['v18q1'] / df_train['tamviv']\n",
    "df_train['rooms-per-capita'] = df_train['rooms'] / df_train['tamviv']\n",
    "df_train['rent-per-capita'] = df_train['v2a1'] / df_train['tamviv']"
   ]
  },
  {
   "cell_type": "code",
   "execution_count": 42,
   "metadata": {
    "_uuid": "04f8fedf12565739f1aad4eac1f323f430e792df"
   },
   "outputs": [],
   "source": [
    "df_test['phones-per-capita'] = df_test['qmobilephone'] / df_test['tamviv']\n",
    "df_test['tablets-per-capita'] = df_test['v18q1'] / df_test['tamviv']\n",
    "df_test['rooms-per-capita'] = df_test['rooms'] / df_test['tamviv']\n",
    "df_test['rent-per-capita'] = df_test['v2a1'] / df_test['tamviv']"
   ]
  },
  {
   "cell_type": "code",
   "execution_count": 43,
   "metadata": {
    "_uuid": "7c7d8a46b40b1647eb0abbe3a008778b16a480a0"
   },
   "outputs": [
    {
     "data": {
      "text/plain": [
       "9509"
      ]
     },
     "execution_count": 43,
     "metadata": {},
     "output_type": "execute_result"
    }
   ],
   "source": [
    "(df_train['hogar_total'] == df_train['r4t3']).sum()"
   ]
  },
  {
   "cell_type": "markdown",
   "metadata": {
    "_uuid": "88dcef80788a229d81ef03a71f6f8801e35e0b87"
   },
   "source": [
    "### Rent per  family features"
   ]
  },
  {
   "cell_type": "code",
   "execution_count": 44,
   "metadata": {
    "_uuid": "47b46ffaaaca67bdca60361a5c5c56966793bda4"
   },
   "outputs": [],
   "source": [
    "family_size_features = ['adult', 'hogar_adul', 'hogar_mayor', 'hogar_nin', 'hogar_total', 'r4h1', \n",
    "                        'r4h2', 'r4h3', 'r4m1', 'r4m2', 'r4m3', 'r4t1', 'r4t2', 'r4t3', 'hhsize']\n",
    "new_feats = []\n",
    "for col in family_size_features:\n",
    "    new_col_name = 'new_{}_per_{}'.format('v2a1', col)\n",
    "    new_feats.append(new_col_name)\n",
    "    df_train[new_col_name] = df_train['v2a1'] / df_train[col]\n",
    "    df_test[new_col_name] = df_test['v2a1'] / df_test[col]"
   ]
  },
  {
   "cell_type": "code",
   "execution_count": 45,
   "metadata": {
    "_uuid": "3a88293e44ccd48ea2b748a459f0176692b90678"
   },
   "outputs": [],
   "source": [
    "for col in new_feats:\n",
    "    df_train[col].replace([np.inf], np.nan, inplace=True)\n",
    "    df_train[col].fillna(0, inplace=True)\n",
    "    \n",
    "    df_test[col].replace([np.inf], np.nan, inplace=True)\n",
    "    df_test[col].fillna(0, inplace=True)"
   ]
  },
  {
   "cell_type": "markdown",
   "metadata": {
    "_uuid": "b8a13813518255466844c9eec8f886ff952d2904"
   },
   "source": [
    "### Room per family features"
   ]
  },
  {
   "cell_type": "code",
   "execution_count": 46,
   "metadata": {
    "_uuid": "5d8cf393ff925a773c6bcfc2e580571402fe40d6"
   },
   "outputs": [],
   "source": [
    "new_feats = []\n",
    "for col in family_size_features:\n",
    "    new_col_name = 'new_{}_per_{}'.format('rooms', col)\n",
    "    new_feats.append(new_col_name)\n",
    "    df_train[new_col_name] = df_train['rooms'] / df_train[col]\n",
    "    df_test[new_col_name] = df_test['rooms'] / df_test[col]\n",
    "\n",
    "for col in new_feats:\n",
    "    df_train[col].replace([np.inf], np.nan, inplace=True)\n",
    "    df_train[col].fillna(0, inplace=True)\n",
    "    \n",
    "    df_test[col].replace([np.inf], np.nan, inplace=True)\n",
    "    df_test[col].fillna(0, inplace=True)"
   ]
  },
  {
   "cell_type": "markdown",
   "metadata": {
    "_uuid": "8996ecc0399297daf4deec25e47bdbd8160ac7fe"
   },
   "source": [
    "### BedRoom per family features"
   ]
  },
  {
   "cell_type": "code",
   "execution_count": 47,
   "metadata": {
    "_uuid": "d9f49890f68d69f15ae8d7b415de5467c4e56e4a"
   },
   "outputs": [],
   "source": [
    "new_feats = []\n",
    "for col in family_size_features:\n",
    "    new_col_name = 'new_{}_per_{}'.format('bedrooms', col)\n",
    "    new_feats.append(new_col_name)\n",
    "    df_train[new_col_name] = df_train['bedrooms'] / df_train[col]\n",
    "    df_test[new_col_name] = df_test['bedrooms'] / df_test[col]\n",
    "\n",
    "for col in new_feats:\n",
    "    df_train[col].replace([np.inf], np.nan, inplace=True)\n",
    "    df_train[col].fillna(0, inplace=True)\n",
    "    \n",
    "    df_test[col].replace([np.inf], np.nan, inplace=True)\n",
    "    df_test[col].fillna(0, inplace=True)"
   ]
  },
  {
   "cell_type": "code",
   "execution_count": 48,
   "metadata": {
    "_uuid": "9aeb114529f877b728484dfdc0b60c6d69209127"
   },
   "outputs": [
    {
     "name": "stdout",
     "output_type": "stream",
     "text": [
      "(9557, 220) (23856, 219)\n"
     ]
    }
   ],
   "source": [
    "print(df_train.shape, df_test.shape) # To check the same number of features between train and test (target is there in train)"
   ]
  },
  {
   "cell_type": "markdown",
   "metadata": {
    "_uuid": "aa67229c4b620b697e552dd83bc6b29451e9275a"
   },
   "source": [
    "### Tabulet per family features"
   ]
  },
  {
   "cell_type": "code",
   "execution_count": 49,
   "metadata": {
    "_uuid": "42fbeb4d81b8f63b94fcf27f3284ae0ea0a6eeb0"
   },
   "outputs": [],
   "source": [
    "new_feats = []\n",
    "for col in family_size_features:\n",
    "    new_col_name = 'new_{}_per_{}'.format('v18q1', col)\n",
    "    new_feats.append(new_col_name)\n",
    "    df_train[new_col_name] = df_train['v18q1'] / df_train[col]\n",
    "    df_test[new_col_name] = df_test['v18q1'] / df_test[col]\n",
    "\n",
    "for col in new_feats:\n",
    "    df_train[col].replace([np.inf], np.nan, inplace=True)\n",
    "    df_train[col].fillna(0, inplace=True)\n",
    "    \n",
    "    df_test[col].replace([np.inf], np.nan, inplace=True)\n",
    "    df_test[col].fillna(0, inplace=True)"
   ]
  },
  {
   "cell_type": "markdown",
   "metadata": {
    "_uuid": "8a296e1a764b682daf24775835e6abede1ffaf1f"
   },
   "source": [
    "### phone per family features"
   ]
  },
  {
   "cell_type": "code",
   "execution_count": 50,
   "metadata": {
    "_uuid": "99592bf467959b6219965ae3705f473f952c7c8a"
   },
   "outputs": [],
   "source": [
    "new_feats = []\n",
    "for col in family_size_features:\n",
    "    new_col_name = 'new_{}_per_{}'.format('qmobilephone', col)\n",
    "    new_feats.append(new_col_name)\n",
    "    df_train[new_col_name] = df_train['qmobilephone'] / df_train[col]\n",
    "    df_test[new_col_name] = df_test['qmobilephone'] / df_test[col]\n",
    "\n",
    "for col in new_feats:\n",
    "    df_train[col].replace([np.inf], np.nan, inplace=True)\n",
    "    df_train[col].fillna(0, inplace=True)\n",
    "    \n",
    "    df_test[col].replace([np.inf], np.nan, inplace=True)\n",
    "    df_test[col].fillna(0, inplace=True)"
   ]
  },
  {
   "cell_type": "markdown",
   "metadata": {
    "_uuid": "8ed9c9918d19dd3f7b797be2c5d76713903f62e2"
   },
   "source": [
    "### rez_esc(Years behind in school)  per family features "
   ]
  },
  {
   "cell_type": "code",
   "execution_count": 51,
   "metadata": {
    "_uuid": "e6fa57417a86cbd1c4c5e9c5eb402fab4fef68e7"
   },
   "outputs": [],
   "source": [
    "new_feats = []\n",
    "for col in family_size_features:\n",
    "    new_col_name = 'new_{}_per_{}'.format('rez_esc', col)\n",
    "    new_feats.append(new_col_name)\n",
    "    df_train[new_col_name] = df_train['rez_esc'] / df_train[col]\n",
    "    df_test[new_col_name] = df_test['rez_esc'] / df_test[col]\n",
    "\n",
    "for col in new_feats:\n",
    "    df_train[col].replace([np.inf], np.nan, inplace=True)\n",
    "    df_train[col].fillna(0, inplace=True)\n",
    "    \n",
    "    df_test[col].replace([np.inf], np.nan, inplace=True)\n",
    "    df_test[col].fillna(0, inplace=True)"
   ]
  },
  {
   "cell_type": "code",
   "execution_count": 52,
   "metadata": {
    "_uuid": "5b9a3329657fe1a0733fed743d1e959e7fb7971e"
   },
   "outputs": [],
   "source": [
    "df_train['rez_esc_age'] = df_train['rez_esc'] / df_train['age']\n",
    "df_train['rez_esc_escolari'] = df_train['rez_esc'] / df_train['escolari']\n",
    "\n",
    "df_test['rez_esc_age'] = df_test['rez_esc'] / df_test['age']\n",
    "df_test['rez_esc_escolari'] = df_test['rez_esc'] / df_test['escolari']"
   ]
  },
  {
   "cell_type": "markdown",
   "metadata": {
    "_uuid": "f21ffecaa311df3251930151f3e60950c57139a0"
   },
   "source": [
    "### Rich features\n",
    "- I think the more richer, the larger number of phones and tabulet"
   ]
  },
  {
   "cell_type": "code",
   "execution_count": 53,
   "metadata": {
    "_uuid": "40d80e5f548c2861b28f385a7af41eb37d5124b5"
   },
   "outputs": [],
   "source": [
    "df_train['tabulet_x_qmobilephone'] = df_train['v18q1'] * df_train['qmobilephone']\n",
    "df_test['tabulet_x_qmobilephone'] = df_test['v18q1'] * df_test['qmobilephone']"
   ]
  },
  {
   "cell_type": "markdown",
   "metadata": {
    "_uuid": "497b11ff192c7230568d79a32818922c9de5bf6c"
   },
   "source": [
    "- wall, roof, floor may be key factor.\n",
    "- Let's multiply each of them. Becuase they are binary cat features, so mulitification of each features generates new categorical features"
   ]
  },
  {
   "cell_type": "code",
   "execution_count": 54,
   "metadata": {
    "_uuid": "4b1da678fe03bcc328aae5806f0472fc46c88bd8"
   },
   "outputs": [],
   "source": [
    "# wall and roof\n",
    "for col1 in ['epared1', 'epared2', 'epared3']:\n",
    "    for col2 in ['etecho1', 'etecho2', 'etecho3']:\n",
    "        new_col_name = 'new_{}_x_{}'.format(col1, col2)\n",
    "        df_train[new_col_name] = df_train[col1] * df_train[col2]\n",
    "        df_test[new_col_name] = df_test[col1] * df_test[col2]\n",
    "        \n",
    "# wall and floor\n",
    "for col1 in ['epared1', 'epared2', 'epared3']:\n",
    "    for col2 in ['eviv1', 'eviv2', 'eviv3']:\n",
    "        new_col_name = 'new_{}_x_{}'.format(col1, col2)\n",
    "        df_train[new_col_name] = df_train[col1] * df_train[col2]\n",
    "        df_test[new_col_name] = df_test[col1] * df_test[col2]\n",
    "\n",
    "# roof and floor\n",
    "for col1 in ['etecho1', 'etecho2', 'etecho3']:\n",
    "    for col2 in ['eviv1', 'eviv2', 'eviv3']:\n",
    "        new_col_name = 'new_{}_x_{}'.format(col1, col2)\n",
    "        df_train[new_col_name] = df_train[col1] * df_train[col2]\n",
    "        df_test[new_col_name] = df_test[col1] * df_test[col2]"
   ]
  },
  {
   "cell_type": "markdown",
   "metadata": {
    "_uuid": "e9085c19e1bc0f3909db69a2de83727fb5a9e1eb"
   },
   "source": [
    "- combination using three features"
   ]
  },
  {
   "cell_type": "code",
   "execution_count": 55,
   "metadata": {
    "_uuid": "10acc48210fa36d6cf294732222d5650f0fb9dd8"
   },
   "outputs": [],
   "source": [
    "for col1 in ['epared1', 'epared2', 'epared3']:\n",
    "    for col2 in ['etecho1', 'etecho2', 'etecho3']:\n",
    "        for col3 in ['eviv1', 'eviv2', 'eviv3']:\n",
    "            new_col_name = 'new_{}_x_{}_x_{}'.format(col1, col2, col3)\n",
    "            df_train[new_col_name] = df_train[col1] * df_train[col2] * df_train[col3]\n",
    "            df_test[new_col_name] = df_test[col1] * df_test[col2] * df_train[col3]"
   ]
  },
  {
   "cell_type": "code",
   "execution_count": 56,
   "metadata": {
    "_uuid": "29987d9c3baaa375a35d5eae4b244f4d7bd10efc"
   },
   "outputs": [
    {
     "name": "stdout",
     "output_type": "stream",
     "text": [
      "(9557, 322) (23856, 321)\n"
     ]
    }
   ],
   "source": [
    "print(df_train.shape, df_test.shape)"
   ]
  },
  {
   "cell_type": "markdown",
   "metadata": {
    "_uuid": "92c51e8598ea7221ee7ed3b93465be613569944b"
   },
   "source": [
    "- I want to mix electricity and energy features -> energy features"
   ]
  },
  {
   "cell_type": "code",
   "execution_count": 57,
   "metadata": {
    "_uuid": "b8ce3b259249a4b4947fcf7d42773d3b855967f7"
   },
   "outputs": [],
   "source": [
    "for col1 in ['public', 'planpri', 'noelec', 'coopele']:\n",
    "    for col2 in ['energcocinar1', 'energcocinar2', 'energcocinar3', 'energcocinar4']:\n",
    "        new_col_name = 'new_{}_x_{}'.format(col1, col2)\n",
    "        df_train[new_col_name] = df_train[col1] * df_train[col2]\n",
    "        df_test[new_col_name] = df_test[col1] * df_test[col2]"
   ]
  },
  {
   "cell_type": "markdown",
   "metadata": {
    "_uuid": "1395cc67ed470303114a43c1cc0b5907cadb8c4d"
   },
   "source": [
    "- I want to mix toilet and rubbish disposal features -> other_infra features"
   ]
  },
  {
   "cell_type": "code",
   "execution_count": 58,
   "metadata": {
    "_uuid": "fcede16a4d1da244cb829b67e0abc1977b5e0d4d"
   },
   "outputs": [],
   "source": [
    "for col1 in ['sanitario1', 'sanitario2', 'sanitario3', 'sanitario5', 'sanitario6']:\n",
    "    for col2 in ['elimbasu1', 'elimbasu2', 'elimbasu3', 'elimbasu4', 'elimbasu5', 'elimbasu6']:\n",
    "        new_col_name = 'new_{}_x_{}'.format(col1, col2)\n",
    "        df_train[new_col_name] = df_train[col1] * df_train[col2]\n",
    "        df_test[new_col_name] = df_test[col1] * df_test[col2]"
   ]
  },
  {
   "cell_type": "markdown",
   "metadata": {
    "_uuid": "ee29d4326b959fafcabb82d7b8a86e4a3c819548"
   },
   "source": [
    "- I want to mix toilet and water provision features -> water features"
   ]
  },
  {
   "cell_type": "code",
   "execution_count": 59,
   "metadata": {
    "_uuid": "9f539e6d25f9eafb37190fed3a278f4cfd92af3e"
   },
   "outputs": [],
   "source": [
    "for col1 in ['abastaguadentro', 'abastaguafuera', 'abastaguano']:\n",
    "    for col2 in ['sanitario1', 'sanitario2', 'sanitario3', 'sanitario5', 'sanitario6']:\n",
    "        new_col_name = 'new_{}_x_{}'.format(col1, col2)\n",
    "        df_train[new_col_name] = df_train[col1] * df_train[col2]\n",
    "        df_test[new_col_name] = df_test[col1] * df_test[col2]"
   ]
  },
  {
   "cell_type": "code",
   "execution_count": 60,
   "metadata": {
    "_uuid": "1bfe5a24ad2775593b9ac193c2e5d2df34409a4d"
   },
   "outputs": [
    {
     "name": "stdout",
     "output_type": "stream",
     "text": [
      "(9557, 383) (23856, 382)\n"
     ]
    }
   ],
   "source": [
    "print(df_train.shape, df_test.shape)"
   ]
  },
  {
   "cell_type": "markdown",
   "metadata": {
    "_uuid": "e9a662850fae45b7841e44b6975b3c567b64c6bb"
   },
   "source": [
    "- I want mix education and area features -> education_zone_features"
   ]
  },
  {
   "cell_type": "code",
   "execution_count": 61,
   "metadata": {
    "_uuid": "a8815d3f93460c0a3fa2f21c4e3d0f3db9e8e714"
   },
   "outputs": [],
   "source": [
    "for col1 in ['area1', 'area2']:\n",
    "    for col2 in ['instlevel1', 'instlevel2', 'instlevel3', 'instlevel4', 'instlevel5', 'instlevel6', 'instlevel7', 'instlevel8', 'instlevel9']:\n",
    "        new_col_name = 'new_{}_x_{}'.format(col1, col2)\n",
    "        df_train[new_col_name] = df_train[col1] * df_train[col2]\n",
    "        df_test[new_col_name] = df_test[col1] * df_test[col2]"
   ]
  },
  {
   "cell_type": "markdown",
   "metadata": {
    "_uuid": "11f50d3234faf68fd28501f11cb38f181ef7001b"
   },
   "source": [
    "- Mix region and education"
   ]
  },
  {
   "cell_type": "code",
   "execution_count": 62,
   "metadata": {
    "_uuid": "abf8ef60e2f3ad77d78329a96b68b728969c37ab"
   },
   "outputs": [],
   "source": [
    "for col1 in ['lugar1', 'lugar2', 'lugar3', 'lugar4', 'lugar5', 'lugar6']:\n",
    "    for col2 in ['instlevel1', 'instlevel2', 'instlevel3', 'instlevel4', 'instlevel5', 'instlevel6', 'instlevel7', 'instlevel8', 'instlevel9']:\n",
    "        new_col_name = 'new_{}_x_{}'.format(col1, col2)\n",
    "        df_train[new_col_name] = df_train[col1] * df_train[col2]\n",
    "        df_test[new_col_name] = df_test[col1] * df_test[col2]"
   ]
  },
  {
   "cell_type": "code",
   "execution_count": 63,
   "metadata": {
    "_uuid": "6afffae902157da07565806da902eada635e86c8"
   },
   "outputs": [
    {
     "name": "stdout",
     "output_type": "stream",
     "text": [
      "(9557, 455) (23856, 454)\n"
     ]
    }
   ],
   "source": [
    "print(df_train.shape, df_test.shape)"
   ]
  },
  {
   "cell_type": "markdown",
   "metadata": {
    "_uuid": "d5fd48e31c759584522282cea8c7c01be8dde430"
   },
   "source": [
    "- Multiply television / mobilephone / computer / tabulet / refrigerator -> electornics features"
   ]
  },
  {
   "cell_type": "code",
   "execution_count": 64,
   "metadata": {
    "_uuid": "2f2b4b02509471c2ee2edbffb5b0f8415e2d9f32"
   },
   "outputs": [],
   "source": [
    "df_train['electronics'] = df_train['computer'] * df_train['mobilephone'] * df_train['television'] * df_train['v18q'] * df_train['refrig']\n",
    "df_test['electronics'] = df_test['computer'] * df_test['mobilephone'] * df_test['television'] * df_test['v18q'] * df_test['refrig']\n",
    "\n",
    "df_train['no_appliances'] = df_train['refrig'] + df_train['computer'] + df_train['television'] + df_train['mobilephone']\n",
    "df_test['no_appliances'] = df_test['refrig'] + df_test['computer'] + df_test['television'] + df_test['mobilephone']"
   ]
  },
  {
   "cell_type": "markdown",
   "metadata": {
    "_uuid": "55bf2544aa4a56d1fa0d3b8d47a7ddba73d3e9e5"
   },
   "source": [
    "- Mix wall material of roof, floor, wall"
   ]
  },
  {
   "cell_type": "code",
   "execution_count": 65,
   "metadata": {
    "_uuid": "aef35c2d709fa6e165f55916a5c781a18faf8751"
   },
   "outputs": [],
   "source": [
    "for col1 in ['paredblolad', 'paredzocalo', 'paredpreb', 'pareddes', 'paredmad', 'paredzinc', 'paredfibras', 'paredother']:\n",
    "    for col2 in ['pisomoscer', 'pisocemento', 'pisoother', 'pisonatur', 'pisonotiene', 'pisomadera']:\n",
    "        new_col_name = 'new_{}_x_{}'.format(col1, col2)\n",
    "        df_train[new_col_name] = df_train[col1] * df_train[col2]\n",
    "        df_test[new_col_name] = df_test[col1] * df_test[col2]\n",
    "\n",
    "for col1 in ['pisomoscer', 'pisocemento', 'pisoother', 'pisonatur', 'pisonotiene', 'pisomadera']:\n",
    "    for col1 in ['techozinc', 'techoentrepiso', 'techocane', 'techootro']:\n",
    "        new_col_name = 'new_{}_x_{}'.format(col1, col2)\n",
    "        df_train[new_col_name] = df_train[col1] * df_train[col2]\n",
    "        df_test[new_col_name] = df_test[col1] * df_test[col2]\n",
    "        \n",
    "for col1 in ['paredblolad', 'paredzocalo', 'paredpreb', 'pareddes', 'paredmad', 'paredzinc', 'paredfibras', 'paredother']:\n",
    "    for col2 in ['techozinc', 'techoentrepiso', 'techocane', 'techootro']:\n",
    "        new_col_name = 'new_{}_x_{}'.format(col1, col2)\n",
    "        df_train[new_col_name] = df_train[col1] * df_train[col2]\n",
    "        df_test[new_col_name] = df_test[col1] * df_test[col2]        \n",
    "        \n",
    "for col1 in ['paredblolad', 'paredzocalo', 'paredpreb', 'pareddes', 'paredmad', 'paredzinc', 'paredfibras', 'paredother']:\n",
    "    for col2 in ['pisomoscer', 'pisocemento', 'pisoother', 'pisonatur', 'pisonotiene', 'pisomadera']:\n",
    "        for col3 in ['techozinc', 'techoentrepiso', 'techocane', 'techootro']:\n",
    "            new_col_name = 'new_{}_x_{}_x_{}'.format(col1, col2, col3)\n",
    "            df_train[new_col_name] = df_train[col1] * df_train[col2] * df_train[col3]\n",
    "            df_test[new_col_name] = df_test[col1] * df_test[col2] * df_train[col3]"
   ]
  },
  {
   "cell_type": "code",
   "execution_count": 66,
   "metadata": {
    "_uuid": "35be9d556f0c0ffb16ecdb7c15d1181309e0c7e6"
   },
   "outputs": [
    {
     "name": "stdout",
     "output_type": "stream",
     "text": [
      "(9557, 733) (23856, 732)\n"
     ]
    }
   ],
   "source": [
    "print(df_train.shape, df_test.shape)"
   ]
  },
  {
   "cell_type": "markdown",
   "metadata": {
    "_uuid": "a473a83424be54e6658544f5b0456618cf0e912f"
   },
   "source": [
    "### Remove feature with only one value"
   ]
  },
  {
   "cell_type": "code",
   "execution_count": 67,
   "metadata": {
    "_uuid": "12605c0a589e7e6c11ef46b773aae56ca4bb8b83",
    "scrolled": true
   },
   "outputs": [
    {
     "name": "stdout",
     "output_type": "stream",
     "text": [
      "elimbasu5\n",
      "new_planpri_x_energcocinar1\n",
      "new_planpri_x_energcocinar2\n",
      "new_planpri_x_energcocinar3\n",
      "new_planpri_x_energcocinar4\n",
      "new_noelec_x_energcocinar2\n",
      "new_sanitario1_x_elimbasu4\n",
      "new_sanitario1_x_elimbasu5\n",
      "new_sanitario1_x_elimbasu6\n",
      "new_sanitario2_x_elimbasu4\n",
      "new_sanitario2_x_elimbasu5\n",
      "new_sanitario2_x_elimbasu6\n",
      "new_sanitario3_x_elimbasu5\n",
      "new_sanitario5_x_elimbasu4\n",
      "new_sanitario5_x_elimbasu5\n",
      "new_sanitario5_x_elimbasu6\n",
      "new_sanitario6_x_elimbasu2\n",
      "new_sanitario6_x_elimbasu4\n",
      "new_sanitario6_x_elimbasu5\n",
      "new_sanitario6_x_elimbasu6\n",
      "new_abastaguafuera_x_sanitario6\n",
      "new_abastaguano_x_sanitario2\n",
      "new_abastaguano_x_sanitario6\n",
      "new_paredblolad_x_pisonatur\n",
      "new_paredblolad_x_pisonotiene\n",
      "new_paredzocalo_x_pisoother\n",
      "new_paredzocalo_x_pisonatur\n",
      "new_paredpreb_x_pisonatur\n",
      "new_pareddes_x_pisoother\n",
      "new_pareddes_x_pisonatur\n",
      "new_paredmad_x_pisoother\n",
      "new_paredmad_x_pisonatur\n",
      "new_paredzinc_x_pisoother\n",
      "new_paredzinc_x_pisonatur\n",
      "new_paredfibras_x_pisoother\n",
      "new_paredfibras_x_pisonatur\n",
      "new_paredfibras_x_pisonotiene\n",
      "new_paredfibras_x_pisomadera\n",
      "new_paredother_x_pisoother\n",
      "new_paredother_x_pisonatur\n",
      "new_paredother_x_pisonotiene\n",
      "new_paredother_x_pisomadera\n",
      "new_techocane_x_pisomadera\n",
      "new_techootro_x_pisomadera\n",
      "new_paredzocalo_x_techoentrepiso\n",
      "new_paredzocalo_x_techocane\n",
      "new_paredzocalo_x_techootro\n",
      "new_paredpreb_x_techootro\n",
      "new_pareddes_x_techoentrepiso\n",
      "new_pareddes_x_techocane\n",
      "new_pareddes_x_techootro\n",
      "new_paredmad_x_techocane\n",
      "new_paredmad_x_techootro\n",
      "new_paredzinc_x_techoentrepiso\n",
      "new_paredzinc_x_techocane\n",
      "new_paredzinc_x_techootro\n",
      "new_paredfibras_x_techoentrepiso\n",
      "new_paredfibras_x_techootro\n",
      "new_paredother_x_techoentrepiso\n",
      "new_paredother_x_techocane\n",
      "new_paredother_x_techootro\n",
      "new_paredblolad_x_pisocemento_x_techocane\n",
      "new_paredblolad_x_pisocemento_x_techootro\n",
      "new_paredblolad_x_pisoother_x_techoentrepiso\n",
      "new_paredblolad_x_pisoother_x_techocane\n",
      "new_paredblolad_x_pisoother_x_techootro\n",
      "new_paredblolad_x_pisonatur_x_techozinc\n",
      "new_paredblolad_x_pisonatur_x_techoentrepiso\n",
      "new_paredblolad_x_pisonatur_x_techocane\n",
      "new_paredblolad_x_pisonatur_x_techootro\n",
      "new_paredblolad_x_pisonotiene_x_techozinc\n",
      "new_paredblolad_x_pisonotiene_x_techoentrepiso\n",
      "new_paredblolad_x_pisonotiene_x_techocane\n",
      "new_paredblolad_x_pisonotiene_x_techootro\n",
      "new_paredblolad_x_pisomadera_x_techocane\n",
      "new_paredblolad_x_pisomadera_x_techootro\n",
      "new_paredzocalo_x_pisomoscer_x_techoentrepiso\n",
      "new_paredzocalo_x_pisomoscer_x_techocane\n",
      "new_paredzocalo_x_pisomoscer_x_techootro\n",
      "new_paredzocalo_x_pisocemento_x_techoentrepiso\n",
      "new_paredzocalo_x_pisocemento_x_techocane\n",
      "new_paredzocalo_x_pisocemento_x_techootro\n",
      "new_paredzocalo_x_pisoother_x_techozinc\n",
      "new_paredzocalo_x_pisoother_x_techoentrepiso\n",
      "new_paredzocalo_x_pisoother_x_techocane\n",
      "new_paredzocalo_x_pisoother_x_techootro\n",
      "new_paredzocalo_x_pisonatur_x_techozinc\n",
      "new_paredzocalo_x_pisonatur_x_techoentrepiso\n",
      "new_paredzocalo_x_pisonatur_x_techocane\n",
      "new_paredzocalo_x_pisonatur_x_techootro\n",
      "new_paredzocalo_x_pisonotiene_x_techoentrepiso\n",
      "new_paredzocalo_x_pisonotiene_x_techocane\n",
      "new_paredzocalo_x_pisonotiene_x_techootro\n",
      "new_paredzocalo_x_pisomadera_x_techoentrepiso\n",
      "new_paredzocalo_x_pisomadera_x_techocane\n",
      "new_paredzocalo_x_pisomadera_x_techootro\n",
      "new_paredpreb_x_pisocemento_x_techoentrepiso\n",
      "new_paredpreb_x_pisocemento_x_techocane\n",
      "new_paredpreb_x_pisocemento_x_techootro\n",
      "new_paredpreb_x_pisoother_x_techoentrepiso\n",
      "new_paredpreb_x_pisoother_x_techocane\n",
      "new_paredpreb_x_pisoother_x_techootro\n",
      "new_paredpreb_x_pisonatur_x_techozinc\n",
      "new_paredpreb_x_pisonatur_x_techoentrepiso\n",
      "new_paredpreb_x_pisonatur_x_techocane\n",
      "new_paredpreb_x_pisonatur_x_techootro\n",
      "new_paredpreb_x_pisonotiene_x_techozinc\n",
      "new_paredpreb_x_pisonotiene_x_techoentrepiso\n",
      "new_paredpreb_x_pisonotiene_x_techocane\n",
      "new_paredpreb_x_pisonotiene_x_techootro\n",
      "new_paredpreb_x_pisomadera_x_techoentrepiso\n",
      "new_paredpreb_x_pisomadera_x_techocane\n",
      "new_paredpreb_x_pisomadera_x_techootro\n",
      "new_pareddes_x_pisomoscer_x_techozinc\n",
      "new_pareddes_x_pisomoscer_x_techoentrepiso\n",
      "new_pareddes_x_pisomoscer_x_techocane\n",
      "new_pareddes_x_pisomoscer_x_techootro\n",
      "new_pareddes_x_pisocemento_x_techoentrepiso\n",
      "new_pareddes_x_pisocemento_x_techocane\n",
      "new_pareddes_x_pisocemento_x_techootro\n",
      "new_pareddes_x_pisoother_x_techozinc\n",
      "new_pareddes_x_pisoother_x_techoentrepiso\n",
      "new_pareddes_x_pisoother_x_techocane\n",
      "new_pareddes_x_pisoother_x_techootro\n",
      "new_pareddes_x_pisonatur_x_techozinc\n",
      "new_pareddes_x_pisonatur_x_techoentrepiso\n",
      "new_pareddes_x_pisonatur_x_techocane\n",
      "new_pareddes_x_pisonatur_x_techootro\n",
      "new_pareddes_x_pisonotiene_x_techoentrepiso\n",
      "new_pareddes_x_pisonotiene_x_techocane\n",
      "new_pareddes_x_pisonotiene_x_techootro\n",
      "new_pareddes_x_pisomadera_x_techozinc\n",
      "new_pareddes_x_pisomadera_x_techoentrepiso\n",
      "new_pareddes_x_pisomadera_x_techocane\n",
      "new_pareddes_x_pisomadera_x_techootro\n",
      "new_paredmad_x_pisomoscer_x_techocane\n",
      "new_paredmad_x_pisomoscer_x_techootro\n",
      "new_paredmad_x_pisocemento_x_techoentrepiso\n",
      "new_paredmad_x_pisocemento_x_techocane\n",
      "new_paredmad_x_pisocemento_x_techootro\n",
      "new_paredmad_x_pisoother_x_techozinc\n",
      "new_paredmad_x_pisoother_x_techoentrepiso\n",
      "new_paredmad_x_pisoother_x_techocane\n",
      "new_paredmad_x_pisoother_x_techootro\n",
      "new_paredmad_x_pisonatur_x_techozinc\n",
      "new_paredmad_x_pisonatur_x_techoentrepiso\n",
      "new_paredmad_x_pisonatur_x_techocane\n",
      "new_paredmad_x_pisonatur_x_techootro\n",
      "new_paredmad_x_pisonotiene_x_techoentrepiso\n",
      "new_paredmad_x_pisonotiene_x_techocane\n",
      "new_paredmad_x_pisonotiene_x_techootro\n",
      "new_paredmad_x_pisomadera_x_techocane\n",
      "new_paredzinc_x_pisomoscer_x_techoentrepiso\n",
      "new_paredzinc_x_pisomoscer_x_techocane\n",
      "new_paredzinc_x_pisomoscer_x_techootro\n",
      "new_paredzinc_x_pisocemento_x_techoentrepiso\n",
      "new_paredzinc_x_pisocemento_x_techocane\n",
      "new_paredzinc_x_pisocemento_x_techootro\n",
      "new_paredzinc_x_pisoother_x_techozinc\n",
      "new_paredzinc_x_pisoother_x_techoentrepiso\n",
      "new_paredzinc_x_pisoother_x_techocane\n",
      "new_paredzinc_x_pisoother_x_techootro\n",
      "new_paredzinc_x_pisonatur_x_techozinc\n",
      "new_paredzinc_x_pisonatur_x_techoentrepiso\n",
      "new_paredzinc_x_pisonatur_x_techocane\n",
      "new_paredzinc_x_pisonatur_x_techootro\n",
      "new_paredzinc_x_pisonotiene_x_techoentrepiso\n",
      "new_paredzinc_x_pisonotiene_x_techocane\n",
      "new_paredzinc_x_pisonotiene_x_techootro\n",
      "new_paredzinc_x_pisomadera_x_techoentrepiso\n",
      "new_paredzinc_x_pisomadera_x_techocane\n",
      "new_paredzinc_x_pisomadera_x_techootro\n",
      "new_paredfibras_x_pisomoscer_x_techoentrepiso\n",
      "new_paredfibras_x_pisomoscer_x_techocane\n",
      "new_paredfibras_x_pisomoscer_x_techootro\n",
      "new_paredfibras_x_pisocemento_x_techoentrepiso\n",
      "new_paredfibras_x_pisocemento_x_techocane\n",
      "new_paredfibras_x_pisocemento_x_techootro\n",
      "new_paredfibras_x_pisoother_x_techozinc\n",
      "new_paredfibras_x_pisoother_x_techoentrepiso\n",
      "new_paredfibras_x_pisoother_x_techocane\n",
      "new_paredfibras_x_pisoother_x_techootro\n",
      "new_paredfibras_x_pisonatur_x_techozinc\n",
      "new_paredfibras_x_pisonatur_x_techoentrepiso\n",
      "new_paredfibras_x_pisonatur_x_techocane\n",
      "new_paredfibras_x_pisonatur_x_techootro\n",
      "new_paredfibras_x_pisonotiene_x_techozinc\n",
      "new_paredfibras_x_pisonotiene_x_techoentrepiso\n",
      "new_paredfibras_x_pisonotiene_x_techocane\n",
      "new_paredfibras_x_pisonotiene_x_techootro\n",
      "new_paredfibras_x_pisomadera_x_techozinc\n",
      "new_paredfibras_x_pisomadera_x_techoentrepiso\n",
      "new_paredfibras_x_pisomadera_x_techocane\n",
      "new_paredfibras_x_pisomadera_x_techootro\n",
      "new_paredother_x_pisomoscer_x_techozinc\n",
      "new_paredother_x_pisomoscer_x_techoentrepiso\n",
      "new_paredother_x_pisomoscer_x_techocane\n",
      "new_paredother_x_pisomoscer_x_techootro\n",
      "new_paredother_x_pisocemento_x_techoentrepiso\n",
      "new_paredother_x_pisocemento_x_techocane\n",
      "new_paredother_x_pisocemento_x_techootro\n",
      "new_paredother_x_pisoother_x_techozinc\n",
      "new_paredother_x_pisoother_x_techoentrepiso\n",
      "new_paredother_x_pisoother_x_techocane\n",
      "new_paredother_x_pisoother_x_techootro\n",
      "new_paredother_x_pisonatur_x_techozinc\n",
      "new_paredother_x_pisonatur_x_techoentrepiso\n",
      "new_paredother_x_pisonatur_x_techocane\n",
      "new_paredother_x_pisonatur_x_techootro\n",
      "new_paredother_x_pisonotiene_x_techozinc\n",
      "new_paredother_x_pisonotiene_x_techoentrepiso\n",
      "new_paredother_x_pisonotiene_x_techocane\n",
      "new_paredother_x_pisonotiene_x_techootro\n",
      "new_paredother_x_pisomadera_x_techozinc\n",
      "new_paredother_x_pisomadera_x_techoentrepiso\n",
      "new_paredother_x_pisomadera_x_techocane\n",
      "new_paredother_x_pisomadera_x_techootro\n"
     ]
    }
   ],
   "source": [
    "cols_with_only_one_value = []\n",
    "for col in df_train.columns:\n",
    "    if col == 'Target':\n",
    "        continue\n",
    "    if df_train[col].value_counts().shape[0] == 1 or df_test[col].value_counts().shape[0] == 1:\n",
    "        print(col)\n",
    "        cols_with_only_one_value.append(col)"
   ]
  },
  {
   "cell_type": "markdown",
   "metadata": {
    "_uuid": "23753ad58e2e62a3f871cc9889c754ec88f1b96e"
   },
   "source": [
    "- Let's remove them!"
   ]
  },
  {
   "cell_type": "code",
   "execution_count": 68,
   "metadata": {
    "_uuid": "f3d31d3ad469fe2213a6922c5750b14e4cfe51c9"
   },
   "outputs": [],
   "source": [
    "df_train.drop(cols_with_only_one_value, axis=1, inplace=True)\n",
    "df_test.drop(cols_with_only_one_value, axis=1, inplace=True)"
   ]
  },
  {
   "cell_type": "code",
   "execution_count": 69,
   "metadata": {},
   "outputs": [],
   "source": [
    "df_train.to_csv(\"train_p.csv\", mode='w')\n",
    "df_test.to_csv(\"test_p.csv\", mode='w')"
   ]
  },
  {
   "cell_type": "code",
   "execution_count": 70,
   "metadata": {},
   "outputs": [
    {
     "data": {
      "text/html": [
       "<div>\n",
       "<style scoped>\n",
       "    .dataframe tbody tr th:only-of-type {\n",
       "        vertical-align: middle;\n",
       "    }\n",
       "\n",
       "    .dataframe tbody tr th {\n",
       "        vertical-align: top;\n",
       "    }\n",
       "\n",
       "    .dataframe thead th {\n",
       "        text-align: right;\n",
       "    }\n",
       "</style>\n",
       "<table border=\"1\" class=\"dataframe\">\n",
       "  <thead>\n",
       "    <tr style=\"text-align: right;\">\n",
       "      <th></th>\n",
       "      <th>Id</th>\n",
       "      <th>v2a1</th>\n",
       "      <th>hacdor</th>\n",
       "      <th>rooms</th>\n",
       "      <th>hacapo</th>\n",
       "      <th>v14a</th>\n",
       "      <th>refrig</th>\n",
       "      <th>v18q</th>\n",
       "      <th>v18q1</th>\n",
       "      <th>r4h1</th>\n",
       "      <th>...</th>\n",
       "      <th>new_paredmad_x_pisomadera_x_techozinc</th>\n",
       "      <th>new_paredmad_x_pisomadera_x_techoentrepiso</th>\n",
       "      <th>new_paredmad_x_pisomadera_x_techootro</th>\n",
       "      <th>new_paredzinc_x_pisomoscer_x_techozinc</th>\n",
       "      <th>new_paredzinc_x_pisocemento_x_techozinc</th>\n",
       "      <th>new_paredzinc_x_pisonotiene_x_techozinc</th>\n",
       "      <th>new_paredzinc_x_pisomadera_x_techozinc</th>\n",
       "      <th>new_paredfibras_x_pisomoscer_x_techozinc</th>\n",
       "      <th>new_paredfibras_x_pisocemento_x_techozinc</th>\n",
       "      <th>new_paredother_x_pisocemento_x_techozinc</th>\n",
       "    </tr>\n",
       "  </thead>\n",
       "  <tbody>\n",
       "    <tr>\n",
       "      <th>0</th>\n",
       "      <td>ID_279628684</td>\n",
       "      <td>190000.0</td>\n",
       "      <td>0</td>\n",
       "      <td>3</td>\n",
       "      <td>0</td>\n",
       "      <td>1</td>\n",
       "      <td>1</td>\n",
       "      <td>0</td>\n",
       "      <td>0.0</td>\n",
       "      <td>0</td>\n",
       "      <td>...</td>\n",
       "      <td>0</td>\n",
       "      <td>0</td>\n",
       "      <td>0</td>\n",
       "      <td>0</td>\n",
       "      <td>0</td>\n",
       "      <td>0</td>\n",
       "      <td>0</td>\n",
       "      <td>0</td>\n",
       "      <td>0</td>\n",
       "      <td>0</td>\n",
       "    </tr>\n",
       "    <tr>\n",
       "      <th>1</th>\n",
       "      <td>ID_f29eb3ddd</td>\n",
       "      <td>135000.0</td>\n",
       "      <td>0</td>\n",
       "      <td>4</td>\n",
       "      <td>0</td>\n",
       "      <td>1</td>\n",
       "      <td>1</td>\n",
       "      <td>1</td>\n",
       "      <td>1.0</td>\n",
       "      <td>0</td>\n",
       "      <td>...</td>\n",
       "      <td>1</td>\n",
       "      <td>0</td>\n",
       "      <td>0</td>\n",
       "      <td>0</td>\n",
       "      <td>0</td>\n",
       "      <td>0</td>\n",
       "      <td>0</td>\n",
       "      <td>0</td>\n",
       "      <td>0</td>\n",
       "      <td>0</td>\n",
       "    </tr>\n",
       "    <tr>\n",
       "      <th>2</th>\n",
       "      <td>ID_68de51c94</td>\n",
       "      <td>0.0</td>\n",
       "      <td>0</td>\n",
       "      <td>8</td>\n",
       "      <td>0</td>\n",
       "      <td>1</td>\n",
       "      <td>1</td>\n",
       "      <td>0</td>\n",
       "      <td>0.0</td>\n",
       "      <td>0</td>\n",
       "      <td>...</td>\n",
       "      <td>0</td>\n",
       "      <td>0</td>\n",
       "      <td>0</td>\n",
       "      <td>0</td>\n",
       "      <td>0</td>\n",
       "      <td>0</td>\n",
       "      <td>0</td>\n",
       "      <td>0</td>\n",
       "      <td>0</td>\n",
       "      <td>0</td>\n",
       "    </tr>\n",
       "    <tr>\n",
       "      <th>3</th>\n",
       "      <td>ID_d671db89c</td>\n",
       "      <td>180000.0</td>\n",
       "      <td>0</td>\n",
       "      <td>5</td>\n",
       "      <td>0</td>\n",
       "      <td>1</td>\n",
       "      <td>1</td>\n",
       "      <td>1</td>\n",
       "      <td>1.0</td>\n",
       "      <td>0</td>\n",
       "      <td>...</td>\n",
       "      <td>0</td>\n",
       "      <td>0</td>\n",
       "      <td>0</td>\n",
       "      <td>0</td>\n",
       "      <td>0</td>\n",
       "      <td>0</td>\n",
       "      <td>0</td>\n",
       "      <td>0</td>\n",
       "      <td>0</td>\n",
       "      <td>0</td>\n",
       "    </tr>\n",
       "    <tr>\n",
       "      <th>4</th>\n",
       "      <td>ID_d56d6f5f5</td>\n",
       "      <td>180000.0</td>\n",
       "      <td>0</td>\n",
       "      <td>5</td>\n",
       "      <td>0</td>\n",
       "      <td>1</td>\n",
       "      <td>1</td>\n",
       "      <td>1</td>\n",
       "      <td>1.0</td>\n",
       "      <td>0</td>\n",
       "      <td>...</td>\n",
       "      <td>0</td>\n",
       "      <td>0</td>\n",
       "      <td>0</td>\n",
       "      <td>0</td>\n",
       "      <td>0</td>\n",
       "      <td>0</td>\n",
       "      <td>0</td>\n",
       "      <td>0</td>\n",
       "      <td>0</td>\n",
       "      <td>0</td>\n",
       "    </tr>\n",
       "  </tbody>\n",
       "</table>\n",
       "<p>5 rows × 516 columns</p>\n",
       "</div>"
      ],
      "text/plain": [
       "             Id      v2a1  hacdor  rooms  hacapo  v14a  refrig  v18q  v18q1  \\\n",
       "0  ID_279628684  190000.0       0      3       0     1       1     0    0.0   \n",
       "1  ID_f29eb3ddd  135000.0       0      4       0     1       1     1    1.0   \n",
       "2  ID_68de51c94       0.0       0      8       0     1       1     0    0.0   \n",
       "3  ID_d671db89c  180000.0       0      5       0     1       1     1    1.0   \n",
       "4  ID_d56d6f5f5  180000.0       0      5       0     1       1     1    1.0   \n",
       "\n",
       "   r4h1  ...  new_paredmad_x_pisomadera_x_techozinc  \\\n",
       "0     0  ...                                      0   \n",
       "1     0  ...                                      1   \n",
       "2     0  ...                                      0   \n",
       "3     0  ...                                      0   \n",
       "4     0  ...                                      0   \n",
       "\n",
       "   new_paredmad_x_pisomadera_x_techoentrepiso  \\\n",
       "0                                           0   \n",
       "1                                           0   \n",
       "2                                           0   \n",
       "3                                           0   \n",
       "4                                           0   \n",
       "\n",
       "   new_paredmad_x_pisomadera_x_techootro  \\\n",
       "0                                      0   \n",
       "1                                      0   \n",
       "2                                      0   \n",
       "3                                      0   \n",
       "4                                      0   \n",
       "\n",
       "   new_paredzinc_x_pisomoscer_x_techozinc  \\\n",
       "0                                       0   \n",
       "1                                       0   \n",
       "2                                       0   \n",
       "3                                       0   \n",
       "4                                       0   \n",
       "\n",
       "   new_paredzinc_x_pisocemento_x_techozinc  \\\n",
       "0                                        0   \n",
       "1                                        0   \n",
       "2                                        0   \n",
       "3                                        0   \n",
       "4                                        0   \n",
       "\n",
       "   new_paredzinc_x_pisonotiene_x_techozinc  \\\n",
       "0                                        0   \n",
       "1                                        0   \n",
       "2                                        0   \n",
       "3                                        0   \n",
       "4                                        0   \n",
       "\n",
       "   new_paredzinc_x_pisomadera_x_techozinc  \\\n",
       "0                                       0   \n",
       "1                                       0   \n",
       "2                                       0   \n",
       "3                                       0   \n",
       "4                                       0   \n",
       "\n",
       "   new_paredfibras_x_pisomoscer_x_techozinc  \\\n",
       "0                                         0   \n",
       "1                                         0   \n",
       "2                                         0   \n",
       "3                                         0   \n",
       "4                                         0   \n",
       "\n",
       "   new_paredfibras_x_pisocemento_x_techozinc  \\\n",
       "0                                          0   \n",
       "1                                          0   \n",
       "2                                          0   \n",
       "3                                          0   \n",
       "4                                          0   \n",
       "\n",
       "   new_paredother_x_pisocemento_x_techozinc  \n",
       "0                                         0  \n",
       "1                                         0  \n",
       "2                                         0  \n",
       "3                                         0  \n",
       "4                                         0  \n",
       "\n",
       "[5 rows x 516 columns]"
      ]
     },
     "execution_count": 70,
     "metadata": {},
     "output_type": "execute_result"
    }
   ],
   "source": [
    "df_train.head()"
   ]
  },
  {
   "cell_type": "code",
   "execution_count": 74,
   "metadata": {
    "scrolled": false
   },
   "outputs": [
    {
     "data": {
      "text/plain": [
       "['Id',\n",
       " 'v2a1',\n",
       " 'hacdor',\n",
       " 'rooms',\n",
       " 'hacapo',\n",
       " 'v14a',\n",
       " 'refrig',\n",
       " 'v18q',\n",
       " 'v18q1',\n",
       " 'r4h1',\n",
       " 'r4h2',\n",
       " 'r4h3',\n",
       " 'r4m1',\n",
       " 'r4m2',\n",
       " 'r4m3',\n",
       " 'r4t1',\n",
       " 'r4t2',\n",
       " 'r4t3',\n",
       " 'tamviv',\n",
       " 'escolari',\n",
       " 'rez_esc',\n",
       " 'hhsize',\n",
       " 'paredblolad',\n",
       " 'paredzocalo',\n",
       " 'paredpreb',\n",
       " 'pareddes',\n",
       " 'paredmad',\n",
       " 'paredzinc',\n",
       " 'paredfibras',\n",
       " 'paredother',\n",
       " 'pisomoscer',\n",
       " 'pisocemento',\n",
       " 'pisoother',\n",
       " 'pisonatur',\n",
       " 'pisonotiene',\n",
       " 'pisomadera',\n",
       " 'techozinc',\n",
       " 'techoentrepiso',\n",
       " 'techocane',\n",
       " 'techootro',\n",
       " 'cielorazo',\n",
       " 'abastaguadentro',\n",
       " 'abastaguafuera',\n",
       " 'abastaguano',\n",
       " 'public',\n",
       " 'planpri',\n",
       " 'noelec',\n",
       " 'coopele',\n",
       " 'sanitario1',\n",
       " 'sanitario2',\n",
       " 'sanitario3',\n",
       " 'sanitario5',\n",
       " 'sanitario6',\n",
       " 'energcocinar1',\n",
       " 'energcocinar2',\n",
       " 'energcocinar3',\n",
       " 'energcocinar4',\n",
       " 'elimbasu1',\n",
       " 'elimbasu2',\n",
       " 'elimbasu3',\n",
       " 'elimbasu4',\n",
       " 'elimbasu6',\n",
       " 'epared1',\n",
       " 'epared2',\n",
       " 'epared3',\n",
       " 'etecho1',\n",
       " 'etecho2',\n",
       " 'etecho3',\n",
       " 'eviv1',\n",
       " 'eviv2',\n",
       " 'eviv3',\n",
       " 'dis',\n",
       " 'male',\n",
       " 'female',\n",
       " 'estadocivil1',\n",
       " 'estadocivil2',\n",
       " 'estadocivil3',\n",
       " 'estadocivil4',\n",
       " 'estadocivil5',\n",
       " 'estadocivil6',\n",
       " 'estadocivil7',\n",
       " 'parentesco1',\n",
       " 'parentesco2',\n",
       " 'parentesco3',\n",
       " 'parentesco4',\n",
       " 'parentesco5',\n",
       " 'parentesco6',\n",
       " 'parentesco7',\n",
       " 'parentesco8',\n",
       " 'parentesco9',\n",
       " 'parentesco10',\n",
       " 'parentesco11',\n",
       " 'parentesco12',\n",
       " 'idhogar',\n",
       " 'hogar_nin',\n",
       " 'hogar_adul',\n",
       " 'hogar_mayor',\n",
       " 'hogar_total',\n",
       " 'dependency',\n",
       " 'edjefe',\n",
       " 'edjefa',\n",
       " 'meaneduc',\n",
       " 'instlevel1',\n",
       " 'instlevel2',\n",
       " 'instlevel3',\n",
       " 'instlevel4',\n",
       " 'instlevel5',\n",
       " 'instlevel6',\n",
       " 'instlevel7',\n",
       " 'instlevel8',\n",
       " 'instlevel9',\n",
       " 'bedrooms',\n",
       " 'overcrowding',\n",
       " 'tipovivi1',\n",
       " 'tipovivi2',\n",
       " 'tipovivi3',\n",
       " 'tipovivi4',\n",
       " 'tipovivi5',\n",
       " 'computer',\n",
       " 'television',\n",
       " 'mobilephone',\n",
       " 'qmobilephone',\n",
       " 'lugar1',\n",
       " 'lugar2',\n",
       " 'lugar3',\n",
       " 'lugar4',\n",
       " 'lugar5',\n",
       " 'lugar6',\n",
       " 'area1',\n",
       " 'area2',\n",
       " 'age',\n",
       " 'SQBescolari',\n",
       " 'SQBage',\n",
       " 'SQBhogar_total',\n",
       " 'SQBedjefe',\n",
       " 'SQBhogar_nin',\n",
       " 'SQBovercrowding',\n",
       " 'SQBdependency',\n",
       " 'SQBmeaned',\n",
       " 'agesq',\n",
       " 'Target',\n",
       " 'edjef',\n",
       " 'roof_waste_material',\n",
       " 'electricity_other',\n",
       " 'adult',\n",
       " 'dependency_count',\n",
       " 'child_percent',\n",
       " 'elder_percent',\n",
       " 'adult_percent',\n",
       " 'males_younger_12_years_percent',\n",
       " 'males_older_12_years_percent',\n",
       " 'males_percent',\n",
       " 'females_younger_12_years_percent',\n",
       " 'females_older_12_years_percent',\n",
       " 'females_percent',\n",
       " 'persons_younger_12_years_percent',\n",
       " 'persons_older_12_years_percent',\n",
       " 'persons_percent',\n",
       " 'males_younger_12_years_in_household_size',\n",
       " 'males_older_12_years_in_household_size',\n",
       " 'males_in_household_size',\n",
       " 'females_younger_12_years_in_household_size',\n",
       " 'females_older_12_years_in_household_size',\n",
       " 'females_in_household_size',\n",
       " 'persons_younger_12_years_in_household_size',\n",
       " 'persons_older_12_years_in_household_size',\n",
       " 'persons_in_household_size',\n",
       " 'overcrowding_room_and_bedroom',\n",
       " 'escolari_age',\n",
       " 'age_12_19',\n",
       " 'phones-per-capita',\n",
       " 'tablets-per-capita',\n",
       " 'rooms-per-capita',\n",
       " 'rent-per-capita',\n",
       " 'new_v2a1_per_adult',\n",
       " 'new_v2a1_per_hogar_adul',\n",
       " 'new_v2a1_per_hogar_mayor',\n",
       " 'new_v2a1_per_hogar_nin',\n",
       " 'new_v2a1_per_hogar_total',\n",
       " 'new_v2a1_per_r4h1',\n",
       " 'new_v2a1_per_r4h2',\n",
       " 'new_v2a1_per_r4h3',\n",
       " 'new_v2a1_per_r4m1',\n",
       " 'new_v2a1_per_r4m2',\n",
       " 'new_v2a1_per_r4m3',\n",
       " 'new_v2a1_per_r4t1',\n",
       " 'new_v2a1_per_r4t2',\n",
       " 'new_v2a1_per_r4t3',\n",
       " 'new_v2a1_per_hhsize',\n",
       " 'new_rooms_per_adult',\n",
       " 'new_rooms_per_hogar_adul',\n",
       " 'new_rooms_per_hogar_mayor',\n",
       " 'new_rooms_per_hogar_nin',\n",
       " 'new_rooms_per_hogar_total',\n",
       " 'new_rooms_per_r4h1',\n",
       " 'new_rooms_per_r4h2',\n",
       " 'new_rooms_per_r4h3',\n",
       " 'new_rooms_per_r4m1',\n",
       " 'new_rooms_per_r4m2',\n",
       " 'new_rooms_per_r4m3',\n",
       " 'new_rooms_per_r4t1',\n",
       " 'new_rooms_per_r4t2',\n",
       " 'new_rooms_per_r4t3',\n",
       " 'new_rooms_per_hhsize',\n",
       " 'new_bedrooms_per_adult',\n",
       " 'new_bedrooms_per_hogar_adul',\n",
       " 'new_bedrooms_per_hogar_mayor',\n",
       " 'new_bedrooms_per_hogar_nin',\n",
       " 'new_bedrooms_per_hogar_total',\n",
       " 'new_bedrooms_per_r4h1',\n",
       " 'new_bedrooms_per_r4h2',\n",
       " 'new_bedrooms_per_r4h3',\n",
       " 'new_bedrooms_per_r4m1',\n",
       " 'new_bedrooms_per_r4m2',\n",
       " 'new_bedrooms_per_r4m3',\n",
       " 'new_bedrooms_per_r4t1',\n",
       " 'new_bedrooms_per_r4t2',\n",
       " 'new_bedrooms_per_r4t3',\n",
       " 'new_bedrooms_per_hhsize',\n",
       " 'new_v18q1_per_adult',\n",
       " 'new_v18q1_per_hogar_adul',\n",
       " 'new_v18q1_per_hogar_mayor',\n",
       " 'new_v18q1_per_hogar_nin',\n",
       " 'new_v18q1_per_hogar_total',\n",
       " 'new_v18q1_per_r4h1',\n",
       " 'new_v18q1_per_r4h2',\n",
       " 'new_v18q1_per_r4h3',\n",
       " 'new_v18q1_per_r4m1',\n",
       " 'new_v18q1_per_r4m2',\n",
       " 'new_v18q1_per_r4m3',\n",
       " 'new_v18q1_per_r4t1',\n",
       " 'new_v18q1_per_r4t2',\n",
       " 'new_v18q1_per_r4t3',\n",
       " 'new_v18q1_per_hhsize',\n",
       " 'new_qmobilephone_per_adult',\n",
       " 'new_qmobilephone_per_hogar_adul',\n",
       " 'new_qmobilephone_per_hogar_mayor',\n",
       " 'new_qmobilephone_per_hogar_nin',\n",
       " 'new_qmobilephone_per_hogar_total',\n",
       " 'new_qmobilephone_per_r4h1',\n",
       " 'new_qmobilephone_per_r4h2',\n",
       " 'new_qmobilephone_per_r4h3',\n",
       " 'new_qmobilephone_per_r4m1',\n",
       " 'new_qmobilephone_per_r4m2',\n",
       " 'new_qmobilephone_per_r4m3',\n",
       " 'new_qmobilephone_per_r4t1',\n",
       " 'new_qmobilephone_per_r4t2',\n",
       " 'new_qmobilephone_per_r4t3',\n",
       " 'new_qmobilephone_per_hhsize',\n",
       " 'new_rez_esc_per_adult',\n",
       " 'new_rez_esc_per_hogar_adul',\n",
       " 'new_rez_esc_per_hogar_mayor',\n",
       " 'new_rez_esc_per_hogar_nin',\n",
       " 'new_rez_esc_per_hogar_total',\n",
       " 'new_rez_esc_per_r4h1',\n",
       " 'new_rez_esc_per_r4h2',\n",
       " 'new_rez_esc_per_r4h3',\n",
       " 'new_rez_esc_per_r4m1',\n",
       " 'new_rez_esc_per_r4m2',\n",
       " 'new_rez_esc_per_r4m3',\n",
       " 'new_rez_esc_per_r4t1',\n",
       " 'new_rez_esc_per_r4t2',\n",
       " 'new_rez_esc_per_r4t3',\n",
       " 'new_rez_esc_per_hhsize',\n",
       " 'rez_esc_age',\n",
       " 'rez_esc_escolari',\n",
       " 'tabulet_x_qmobilephone',\n",
       " 'new_epared1_x_etecho1',\n",
       " 'new_epared1_x_etecho2',\n",
       " 'new_epared1_x_etecho3',\n",
       " 'new_epared2_x_etecho1',\n",
       " 'new_epared2_x_etecho2',\n",
       " 'new_epared2_x_etecho3',\n",
       " 'new_epared3_x_etecho1',\n",
       " 'new_epared3_x_etecho2',\n",
       " 'new_epared3_x_etecho3',\n",
       " 'new_epared1_x_eviv1',\n",
       " 'new_epared1_x_eviv2',\n",
       " 'new_epared1_x_eviv3',\n",
       " 'new_epared2_x_eviv1',\n",
       " 'new_epared2_x_eviv2',\n",
       " 'new_epared2_x_eviv3',\n",
       " 'new_epared3_x_eviv1',\n",
       " 'new_epared3_x_eviv2',\n",
       " 'new_epared3_x_eviv3',\n",
       " 'new_etecho1_x_eviv1',\n",
       " 'new_etecho1_x_eviv2',\n",
       " 'new_etecho1_x_eviv3',\n",
       " 'new_etecho2_x_eviv1',\n",
       " 'new_etecho2_x_eviv2',\n",
       " 'new_etecho2_x_eviv3',\n",
       " 'new_etecho3_x_eviv1',\n",
       " 'new_etecho3_x_eviv2',\n",
       " 'new_etecho3_x_eviv3',\n",
       " 'new_epared1_x_etecho1_x_eviv1',\n",
       " 'new_epared1_x_etecho1_x_eviv2',\n",
       " 'new_epared1_x_etecho1_x_eviv3',\n",
       " 'new_epared1_x_etecho2_x_eviv1',\n",
       " 'new_epared1_x_etecho2_x_eviv2',\n",
       " 'new_epared1_x_etecho2_x_eviv3',\n",
       " 'new_epared1_x_etecho3_x_eviv1',\n",
       " 'new_epared1_x_etecho3_x_eviv2',\n",
       " 'new_epared1_x_etecho3_x_eviv3',\n",
       " 'new_epared2_x_etecho1_x_eviv1',\n",
       " 'new_epared2_x_etecho1_x_eviv2',\n",
       " 'new_epared2_x_etecho1_x_eviv3',\n",
       " 'new_epared2_x_etecho2_x_eviv1',\n",
       " 'new_epared2_x_etecho2_x_eviv2',\n",
       " 'new_epared2_x_etecho2_x_eviv3',\n",
       " 'new_epared2_x_etecho3_x_eviv1',\n",
       " 'new_epared2_x_etecho3_x_eviv2',\n",
       " 'new_epared2_x_etecho3_x_eviv3',\n",
       " 'new_epared3_x_etecho1_x_eviv1',\n",
       " 'new_epared3_x_etecho1_x_eviv2',\n",
       " 'new_epared3_x_etecho1_x_eviv3',\n",
       " 'new_epared3_x_etecho2_x_eviv1',\n",
       " 'new_epared3_x_etecho2_x_eviv2',\n",
       " 'new_epared3_x_etecho2_x_eviv3',\n",
       " 'new_epared3_x_etecho3_x_eviv1',\n",
       " 'new_epared3_x_etecho3_x_eviv2',\n",
       " 'new_epared3_x_etecho3_x_eviv3',\n",
       " 'new_public_x_energcocinar1',\n",
       " 'new_public_x_energcocinar2',\n",
       " 'new_public_x_energcocinar3',\n",
       " 'new_public_x_energcocinar4',\n",
       " 'new_noelec_x_energcocinar1',\n",
       " 'new_noelec_x_energcocinar3',\n",
       " 'new_noelec_x_energcocinar4',\n",
       " 'new_coopele_x_energcocinar1',\n",
       " 'new_coopele_x_energcocinar2',\n",
       " 'new_coopele_x_energcocinar3',\n",
       " 'new_coopele_x_energcocinar4',\n",
       " 'new_sanitario1_x_elimbasu1',\n",
       " 'new_sanitario1_x_elimbasu2',\n",
       " 'new_sanitario1_x_elimbasu3',\n",
       " 'new_sanitario2_x_elimbasu1',\n",
       " 'new_sanitario2_x_elimbasu2',\n",
       " 'new_sanitario2_x_elimbasu3',\n",
       " 'new_sanitario3_x_elimbasu1',\n",
       " 'new_sanitario3_x_elimbasu2',\n",
       " 'new_sanitario3_x_elimbasu3',\n",
       " 'new_sanitario3_x_elimbasu4',\n",
       " 'new_sanitario3_x_elimbasu6',\n",
       " 'new_sanitario5_x_elimbasu1',\n",
       " 'new_sanitario5_x_elimbasu2',\n",
       " 'new_sanitario5_x_elimbasu3',\n",
       " 'new_sanitario6_x_elimbasu1',\n",
       " 'new_sanitario6_x_elimbasu3',\n",
       " 'new_abastaguadentro_x_sanitario1',\n",
       " 'new_abastaguadentro_x_sanitario2',\n",
       " 'new_abastaguadentro_x_sanitario3',\n",
       " 'new_abastaguadentro_x_sanitario5',\n",
       " 'new_abastaguadentro_x_sanitario6',\n",
       " 'new_abastaguafuera_x_sanitario1',\n",
       " 'new_abastaguafuera_x_sanitario2',\n",
       " 'new_abastaguafuera_x_sanitario3',\n",
       " 'new_abastaguafuera_x_sanitario5',\n",
       " 'new_abastaguano_x_sanitario1',\n",
       " 'new_abastaguano_x_sanitario3',\n",
       " 'new_abastaguano_x_sanitario5',\n",
       " 'new_area1_x_instlevel1',\n",
       " 'new_area1_x_instlevel2',\n",
       " 'new_area1_x_instlevel3',\n",
       " 'new_area1_x_instlevel4',\n",
       " 'new_area1_x_instlevel5',\n",
       " 'new_area1_x_instlevel6',\n",
       " 'new_area1_x_instlevel7',\n",
       " 'new_area1_x_instlevel8',\n",
       " 'new_area1_x_instlevel9',\n",
       " 'new_area2_x_instlevel1',\n",
       " 'new_area2_x_instlevel2',\n",
       " 'new_area2_x_instlevel3',\n",
       " 'new_area2_x_instlevel4',\n",
       " 'new_area2_x_instlevel5',\n",
       " 'new_area2_x_instlevel6',\n",
       " 'new_area2_x_instlevel7',\n",
       " 'new_area2_x_instlevel8',\n",
       " 'new_area2_x_instlevel9',\n",
       " 'new_lugar1_x_instlevel1',\n",
       " 'new_lugar1_x_instlevel2',\n",
       " 'new_lugar1_x_instlevel3',\n",
       " 'new_lugar1_x_instlevel4',\n",
       " 'new_lugar1_x_instlevel5',\n",
       " 'new_lugar1_x_instlevel6',\n",
       " 'new_lugar1_x_instlevel7',\n",
       " 'new_lugar1_x_instlevel8',\n",
       " 'new_lugar1_x_instlevel9',\n",
       " 'new_lugar2_x_instlevel1',\n",
       " 'new_lugar2_x_instlevel2',\n",
       " 'new_lugar2_x_instlevel3',\n",
       " 'new_lugar2_x_instlevel4',\n",
       " 'new_lugar2_x_instlevel5',\n",
       " 'new_lugar2_x_instlevel6',\n",
       " 'new_lugar2_x_instlevel7',\n",
       " 'new_lugar2_x_instlevel8',\n",
       " 'new_lugar2_x_instlevel9',\n",
       " 'new_lugar3_x_instlevel1',\n",
       " 'new_lugar3_x_instlevel2',\n",
       " 'new_lugar3_x_instlevel3',\n",
       " 'new_lugar3_x_instlevel4',\n",
       " 'new_lugar3_x_instlevel5',\n",
       " 'new_lugar3_x_instlevel6',\n",
       " 'new_lugar3_x_instlevel7',\n",
       " 'new_lugar3_x_instlevel8',\n",
       " 'new_lugar3_x_instlevel9',\n",
       " 'new_lugar4_x_instlevel1',\n",
       " 'new_lugar4_x_instlevel2',\n",
       " 'new_lugar4_x_instlevel3',\n",
       " 'new_lugar4_x_instlevel4',\n",
       " 'new_lugar4_x_instlevel5',\n",
       " 'new_lugar4_x_instlevel6',\n",
       " 'new_lugar4_x_instlevel7',\n",
       " 'new_lugar4_x_instlevel8',\n",
       " 'new_lugar4_x_instlevel9',\n",
       " 'new_lugar5_x_instlevel1',\n",
       " 'new_lugar5_x_instlevel2',\n",
       " 'new_lugar5_x_instlevel3',\n",
       " 'new_lugar5_x_instlevel4',\n",
       " 'new_lugar5_x_instlevel5',\n",
       " 'new_lugar5_x_instlevel6',\n",
       " 'new_lugar5_x_instlevel7',\n",
       " 'new_lugar5_x_instlevel8',\n",
       " 'new_lugar5_x_instlevel9',\n",
       " 'new_lugar6_x_instlevel1',\n",
       " 'new_lugar6_x_instlevel2',\n",
       " 'new_lugar6_x_instlevel3',\n",
       " 'new_lugar6_x_instlevel4',\n",
       " 'new_lugar6_x_instlevel5',\n",
       " 'new_lugar6_x_instlevel6',\n",
       " 'new_lugar6_x_instlevel7',\n",
       " 'new_lugar6_x_instlevel8',\n",
       " 'new_lugar6_x_instlevel9',\n",
       " 'electronics',\n",
       " 'no_appliances',\n",
       " 'new_paredblolad_x_pisomoscer',\n",
       " 'new_paredblolad_x_pisocemento',\n",
       " 'new_paredblolad_x_pisoother',\n",
       " 'new_paredblolad_x_pisomadera',\n",
       " 'new_paredzocalo_x_pisomoscer',\n",
       " 'new_paredzocalo_x_pisocemento',\n",
       " 'new_paredzocalo_x_pisonotiene',\n",
       " 'new_paredzocalo_x_pisomadera',\n",
       " 'new_paredpreb_x_pisomoscer',\n",
       " 'new_paredpreb_x_pisocemento',\n",
       " 'new_paredpreb_x_pisoother',\n",
       " 'new_paredpreb_x_pisonotiene',\n",
       " 'new_paredpreb_x_pisomadera',\n",
       " 'new_pareddes_x_pisomoscer',\n",
       " 'new_pareddes_x_pisocemento',\n",
       " 'new_pareddes_x_pisonotiene',\n",
       " 'new_pareddes_x_pisomadera',\n",
       " 'new_paredmad_x_pisomoscer',\n",
       " 'new_paredmad_x_pisocemento',\n",
       " 'new_paredmad_x_pisonotiene',\n",
       " 'new_paredmad_x_pisomadera',\n",
       " 'new_paredzinc_x_pisomoscer',\n",
       " 'new_paredzinc_x_pisocemento',\n",
       " 'new_paredzinc_x_pisonotiene',\n",
       " 'new_paredzinc_x_pisomadera',\n",
       " 'new_paredfibras_x_pisomoscer',\n",
       " 'new_paredfibras_x_pisocemento',\n",
       " 'new_paredother_x_pisomoscer',\n",
       " 'new_paredother_x_pisocemento',\n",
       " 'new_techozinc_x_pisomadera',\n",
       " 'new_techoentrepiso_x_pisomadera',\n",
       " 'new_paredblolad_x_techozinc',\n",
       " 'new_paredblolad_x_techoentrepiso',\n",
       " 'new_paredblolad_x_techocane',\n",
       " 'new_paredblolad_x_techootro',\n",
       " 'new_paredzocalo_x_techozinc',\n",
       " 'new_paredpreb_x_techozinc',\n",
       " 'new_paredpreb_x_techoentrepiso',\n",
       " 'new_paredpreb_x_techocane',\n",
       " 'new_pareddes_x_techozinc',\n",
       " 'new_paredmad_x_techozinc',\n",
       " 'new_paredmad_x_techoentrepiso',\n",
       " 'new_paredzinc_x_techozinc',\n",
       " 'new_paredfibras_x_techozinc',\n",
       " 'new_paredfibras_x_techocane',\n",
       " 'new_paredother_x_techozinc',\n",
       " 'new_paredblolad_x_pisomoscer_x_techozinc',\n",
       " 'new_paredblolad_x_pisomoscer_x_techoentrepiso',\n",
       " 'new_paredblolad_x_pisomoscer_x_techocane',\n",
       " 'new_paredblolad_x_pisomoscer_x_techootro',\n",
       " 'new_paredblolad_x_pisocemento_x_techozinc',\n",
       " 'new_paredblolad_x_pisocemento_x_techoentrepiso',\n",
       " 'new_paredblolad_x_pisoother_x_techozinc',\n",
       " 'new_paredblolad_x_pisomadera_x_techozinc',\n",
       " 'new_paredblolad_x_pisomadera_x_techoentrepiso',\n",
       " 'new_paredzocalo_x_pisomoscer_x_techozinc',\n",
       " 'new_paredzocalo_x_pisocemento_x_techozinc',\n",
       " 'new_paredzocalo_x_pisonotiene_x_techozinc',\n",
       " 'new_paredzocalo_x_pisomadera_x_techozinc',\n",
       " 'new_paredpreb_x_pisomoscer_x_techozinc',\n",
       " 'new_paredpreb_x_pisomoscer_x_techoentrepiso',\n",
       " 'new_paredpreb_x_pisomoscer_x_techocane',\n",
       " 'new_paredpreb_x_pisomoscer_x_techootro',\n",
       " 'new_paredpreb_x_pisocemento_x_techozinc',\n",
       " 'new_paredpreb_x_pisoother_x_techozinc',\n",
       " 'new_paredpreb_x_pisomadera_x_techozinc',\n",
       " 'new_pareddes_x_pisocemento_x_techozinc',\n",
       " 'new_pareddes_x_pisonotiene_x_techozinc',\n",
       " 'new_paredmad_x_pisomoscer_x_techozinc',\n",
       " 'new_paredmad_x_pisomoscer_x_techoentrepiso',\n",
       " 'new_paredmad_x_pisocemento_x_techozinc',\n",
       " 'new_paredmad_x_pisonotiene_x_techozinc',\n",
       " 'new_paredmad_x_pisomadera_x_techozinc',\n",
       " 'new_paredmad_x_pisomadera_x_techoentrepiso',\n",
       " 'new_paredmad_x_pisomadera_x_techootro',\n",
       " 'new_paredzinc_x_pisomoscer_x_techozinc',\n",
       " 'new_paredzinc_x_pisocemento_x_techozinc',\n",
       " 'new_paredzinc_x_pisonotiene_x_techozinc',\n",
       " 'new_paredzinc_x_pisomadera_x_techozinc',\n",
       " 'new_paredfibras_x_pisomoscer_x_techozinc',\n",
       " 'new_paredfibras_x_pisocemento_x_techozinc',\n",
       " 'new_paredother_x_pisocemento_x_techozinc']"
      ]
     },
     "execution_count": 74,
     "metadata": {},
     "output_type": "execute_result"
    }
   ],
   "source": [
    "pd.set_option('display.max_rows', 1000)\n",
    "df_train.columns.to_list()"
   ]
  },
  {
   "cell_type": "code",
   "execution_count": null,
   "metadata": {},
   "outputs": [],
   "source": []
  }
 ],
 "metadata": {
  "kernelspec": {
   "display_name": "Python 3",
   "language": "python",
   "name": "python3"
  },
  "language_info": {
   "codemirror_mode": {
    "name": "ipython",
    "version": 3
   },
   "file_extension": ".py",
   "mimetype": "text/x-python",
   "name": "python",
   "nbconvert_exporter": "python",
   "pygments_lexer": "ipython3",
   "version": "3.7.6"
  }
 },
 "nbformat": 4,
 "nbformat_minor": 1
}
